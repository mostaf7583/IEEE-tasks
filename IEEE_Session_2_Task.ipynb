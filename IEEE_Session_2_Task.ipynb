{
  "cells": [
    {
      "cell_type": "markdown",
      "metadata": {
        "colab_type": "text",
        "id": "view-in-github"
      },
      "source": [
        "<a href=\"https://colab.research.google.com/github/mostaf7583/IEEE-tasks/blob/main/IEEE_Session_2_Task.ipynb\" target=\"_parent\"><img src=\"https://colab.research.google.com/assets/colab-badge.svg\" alt=\"Open In Colab\"/></a>"
      ]
    },
    {
      "cell_type": "markdown",
      "metadata": {
        "id": "rb8bI-CWfXkJ"
      },
      "source": [
        "<h1>Welcome to the second session's task!</h1>\n",
        "\n",
        "This task's objectives are to:\n",
        "\n",
        "\n",
        "\n",
        "*   Apply end-to-end machine learning steps on a house prices dataset\n",
        "*   Use a hands-on approach to learning scikit-learn and its uses in machine learning\n",
        "\n"
      ]
    },
    {
      "cell_type": "markdown",
      "metadata": {
        "id": "bI_6Np90Kyzo"
      },
      "source": [
        "<h1><b>End-to-end Machine Learning</b></h1>"
      ]
    },
    {
      "cell_type": "markdown",
      "metadata": {
        "id": "iSp7BwiZw9zS"
      },
      "source": [
        "Steps are to \n",
        "\n",
        "\n",
        "\n",
        "1.   Download the data\n",
        "2.   Understand and Clean the Data\n",
        "3.   Preprocess and Feature Engineer the Data\n",
        "4.   Train a model using the data\n",
        "5.   Measure the model's performance using cross validation\n",
        "6.   Do hyperparameter tuning on the model and/or try different models\n",
        "7.   Use the final selected model to make predictions on the test set\n",
        "\n"
      ]
    },
    {
      "cell_type": "markdown",
      "metadata": {
        "id": "HIOyuYMkKyz-"
      },
      "source": [
        "## Download the Data"
      ]
    },
    {
      "cell_type": "markdown",
      "metadata": {
        "id": "CF9mjNUPrL-F"
      },
      "source": [
        "This part really depends on the problem and how it's presented to you. \n",
        "\n",
        "For example, I have uploaded the data to Kaggle so you can download it from there. \n",
        "\n",
        "Google Colab also provides the option to upload files but those will be deleted once the Colab session ends so it's better to download the data using code so you can re-run that cell every time you want to download the data.\n",
        "\n",
        "For this task, however, I have uploaded the data to Google Drive and it can be downloaded as so:"
      ]
    },
    {
      "cell_type": "markdown",
      "metadata": {
        "id": "vEpzxdDEsgUy"
      },
      "source": [
        "<h2>Extra information in case you're wondering what the next cell does:\n",
        "</h2>\n",
        "\n",
        "\n",
        "The exclamation mark allows us to use bash commands, which is a way to use the operating system from the command line.\n",
        "\n",
        "Most common and useful commands are:\n",
        "\n",
        "1. pwd \n",
        "\n",
        "(short for print working directory to print where we are executing the command)\n",
        "\n",
        "2. ls \n",
        "\n",
        "(short for list directory to list directory contents)\n",
        "\n",
        "3. cd \n",
        "\n",
        "(short for change directory to change our current directory)\n",
        "\n",
        "\n",
        "4. mkdir \n",
        "\n",
        "(short for make directory to create a new directory)\n",
        "\n",
        "5. mv \n",
        "\n",
        "(short for move to move a file or folder from one location to another)\n",
        "\n",
        "6. cp \n",
        "\n",
        "(short for copy where it copies a file from one location to another)\n",
        "\n",
        "\n",
        "So gdown is actually a program that comes pre-installed with colab and it allows us to download a file from Google Drive using its id."
      ]
    },
    {
      "cell_type": "code",
      "execution_count": 20,
      "metadata": {
        "colab": {
          "base_uri": "https://localhost:8080/"
        },
        "dotnet_interactive": {
          "language": "csharp"
        },
        "id": "wx4eAu6EsEni",
        "outputId": "55e107d4-22e9-42ab-eb98-cf70e37048a1",
        "vscode": {
          "languageId": "python"
        }
      },
      "outputs": [
        {
          "name": "stderr",
          "output_type": "stream",
          "text": [
            "'gdown' is not recognized as an internal or external command,\n",
            "operable program or batch file.\n",
            "'gdown' is not recognized as an internal or external command,\n",
            "operable program or batch file.\n",
            "'gdown' is not recognized as an internal or external command,\n",
            "operable program or batch file.\n"
          ]
        }
      ],
      "source": [
        "!gdown 1lXJTBP4mOVnS2nMTusEcUHjqWgZGNkLW\n",
        "!gdown 1U2IWwN78Td1XQz38_u60pXsU_WgQzCtB\n",
        "!gdown 1RwXmgcY6rh-JPgGHWLRn5lzom8YMIIFC"
      ]
    },
    {
      "cell_type": "markdown",
      "metadata": {
        "id": "epZTgIf8Kyz9"
      },
      "source": [
        "<h2>Our goal for this task is to use the house_prices_train.csv dataset to create a model and use that model to predict prices for house_prices_test.csv\n",
        "\n",
        "We will then submit the given price predictions to Kaggle in the same format as the file sample_submission.csv</h2>"
      ]
    },
    {
      "cell_type": "code",
      "execution_count": 21,
      "metadata": {
        "dotnet_interactive": {
          "language": "csharp"
        },
        "id": "3Jni2de1Kyz_",
        "vscode": {
          "languageId": "python"
        }
      },
      "outputs": [],
      "source": [
        "import pandas as pd\n",
        "#Helps make printing numbers look better\n",
        "pd.options.display.float_format = '{:.2f}'.format\n",
        "\n",
        "train = pd.read_csv('https://drive.google.com/uc?id=1lXJTBP4mOVnS2nMTusEcUHjqWgZGNkLW')"
      ]
    },
    {
      "cell_type": "markdown",
      "metadata": {
        "id": "2dR801oUKy0A"
      },
      "source": [
        "## Take a Quick Look at the Data Structure"
      ]
    },
    {
      "cell_type": "markdown",
      "metadata": {
        "id": "X7jDgpnm36MU"
      },
      "source": [
        "<h1><b>Q1: Use some pandas built-in functions like head, describe, value_counts, etc. to take an initial look at the data</b></h1>"
      ]
    },
    {
      "cell_type": "code",
      "execution_count": 22,
      "metadata": {
        "dotnet_interactive": {
          "language": "csharp"
        },
        "id": "7SsheSSMPe5g",
        "vscode": {
          "languageId": "python"
        }
      },
      "outputs": [
        {
          "data": {
            "text/html": [
              "<div>\n",
              "<style scoped>\n",
              "    .dataframe tbody tr th:only-of-type {\n",
              "        vertical-align: middle;\n",
              "    }\n",
              "\n",
              "    .dataframe tbody tr th {\n",
              "        vertical-align: top;\n",
              "    }\n",
              "\n",
              "    .dataframe thead th {\n",
              "        text-align: right;\n",
              "    }\n",
              "</style>\n",
              "<table border=\"1\" class=\"dataframe\">\n",
              "  <thead>\n",
              "    <tr style=\"text-align: right;\">\n",
              "      <th></th>\n",
              "      <th>ad_id</th>\n",
              "      <th>type</th>\n",
              "      <th>area</th>\n",
              "      <th>bedrooms</th>\n",
              "      <th>bathrooms</th>\n",
              "      <th>level</th>\n",
              "      <th>furnished</th>\n",
              "      <th>rent</th>\n",
              "      <th>city</th>\n",
              "      <th>region</th>\n",
              "      <th>price</th>\n",
              "    </tr>\n",
              "  </thead>\n",
              "  <tbody>\n",
              "    <tr>\n",
              "      <th>0</th>\n",
              "      <td>Ad id 194203902</td>\n",
              "      <td>apartment</td>\n",
              "      <td>155.00</td>\n",
              "      <td>2</td>\n",
              "      <td>3</td>\n",
              "      <td>ground</td>\n",
              "      <td>no</td>\n",
              "      <td>no</td>\n",
              "      <td>cairo</td>\n",
              "      <td>new cairo - el tagamoa</td>\n",
              "      <td>2569700.00</td>\n",
              "    </tr>\n",
              "    <tr>\n",
              "      <th>1</th>\n",
              "      <td>Ad id 192722330</td>\n",
              "      <td>apartment</td>\n",
              "      <td>160.00</td>\n",
              "      <td>2</td>\n",
              "      <td>1</td>\n",
              "      <td>2</td>\n",
              "      <td>no</td>\n",
              "      <td>yes</td>\n",
              "      <td>alexandria</td>\n",
              "      <td>kafr abdo</td>\n",
              "      <td>7000.00</td>\n",
              "    </tr>\n",
              "    <tr>\n",
              "      <th>2</th>\n",
              "      <td>Ad id 194289766</td>\n",
              "      <td>apartment</td>\n",
              "      <td>70.00</td>\n",
              "      <td>2</td>\n",
              "      <td>1</td>\n",
              "      <td>ground</td>\n",
              "      <td>no</td>\n",
              "      <td>no</td>\n",
              "      <td>cairo</td>\n",
              "      <td>nasr city</td>\n",
              "      <td>50000.00</td>\n",
              "    </tr>\n",
              "    <tr>\n",
              "      <th>3</th>\n",
              "      <td>Ad id 194361900</td>\n",
              "      <td>apartment</td>\n",
              "      <td>220.00</td>\n",
              "      <td>3</td>\n",
              "      <td>3</td>\n",
              "      <td>10+</td>\n",
              "      <td>no</td>\n",
              "      <td>no</td>\n",
              "      <td>dakahlia</td>\n",
              "      <td>mansura</td>\n",
              "      <td>2475000.00</td>\n",
              "    </tr>\n",
              "    <tr>\n",
              "      <th>4</th>\n",
              "      <td>Ad id 194365829</td>\n",
              "      <td>apartment</td>\n",
              "      <td>140.00</td>\n",
              "      <td>3</td>\n",
              "      <td>2</td>\n",
              "      <td>4</td>\n",
              "      <td>no</td>\n",
              "      <td>no</td>\n",
              "      <td>cairo</td>\n",
              "      <td>madinaty</td>\n",
              "      <td>3000000.00</td>\n",
              "    </tr>\n",
              "  </tbody>\n",
              "</table>\n",
              "</div>"
            ],
            "text/plain": [
              "             ad_id       type   area bedrooms  bathrooms   level furnished  \\\n",
              "0  Ad id 194203902  apartment 155.00        2          3  ground        no   \n",
              "1  Ad id 192722330  apartment 160.00        2          1       2        no   \n",
              "2  Ad id 194289766  apartment  70.00        2          1  ground        no   \n",
              "3  Ad id 194361900  apartment 220.00        3          3     10+        no   \n",
              "4  Ad id 194365829  apartment 140.00        3          2       4        no   \n",
              "\n",
              "  rent        city                  region      price  \n",
              "0   no       cairo  new cairo - el tagamoa 2569700.00  \n",
              "1  yes  alexandria               kafr abdo    7000.00  \n",
              "2   no       cairo               nasr city   50000.00  \n",
              "3   no    dakahlia                 mansura 2475000.00  \n",
              "4   no       cairo                madinaty 3000000.00  "
            ]
          },
          "execution_count": 22,
          "metadata": {},
          "output_type": "execute_result"
        }
      ],
      "source": [
        "train.head()"
      ]
    },
    {
      "cell_type": "markdown",
      "metadata": {
        "id": "s6ldkF-QKy0V"
      },
      "source": [
        "# Discover and Visualize the Data to Gain Insights"
      ]
    },
    {
      "cell_type": "markdown",
      "metadata": {
        "id": "QGR31vYQ4TOn"
      },
      "source": [
        "<h1><b>Q2: Use any visualization library you like to visualize some of the datasets attributes. Hint: You can use pandas dataframes built-in hist and box plot methods or pandas scatter_matrix. Other solutions are also welcome.</b></h1>"
      ]
    },
    {
      "cell_type": "code",
      "execution_count": 24,
      "metadata": {
        "dotnet_interactive": {
          "language": "csharp"
        },
        "id": "EHsqCFm8PgS_",
        "vscode": {
          "languageId": "python"
        }
      },
      "outputs": [
        {
          "data": {
            "text/plain": [
              "array([[<AxesSubplot:xlabel='area', ylabel='area'>,\n",
              "        <AxesSubplot:xlabel='bathrooms', ylabel='area'>,\n",
              "        <AxesSubplot:xlabel='price', ylabel='area'>],\n",
              "       [<AxesSubplot:xlabel='area', ylabel='bathrooms'>,\n",
              "        <AxesSubplot:xlabel='bathrooms', ylabel='bathrooms'>,\n",
              "        <AxesSubplot:xlabel='price', ylabel='bathrooms'>],\n",
              "       [<AxesSubplot:xlabel='area', ylabel='price'>,\n",
              "        <AxesSubplot:xlabel='bathrooms', ylabel='price'>,\n",
              "        <AxesSubplot:xlabel='price', ylabel='price'>]], dtype=object)"
            ]
          },
          "execution_count": 24,
          "metadata": {},
          "output_type": "execute_result"
        },
        {
          "data": {
            "image/png": "[encoded data removed]",
            "text/plain": [
              "<Figure size 2000x2000 with 9 Axes>"
            ]
          },
          "metadata": {},
          "output_type": "display_data"
        }
      ],
      "source": [
        "\n",
        "# visualize the some dataset attributes using a scatter matrix\n",
        "from pandas.plotting import scatter_matrix\n",
        "scatter_matrix(train, alpha=0.2, figsize=(20, 20), diagonal='kde')\n",
        "\n",
        "\n",
        "\n",
        "\n",
        "\n",
        "\n"
      ]
    },
    {
      "cell_type": "markdown",
      "metadata": {
        "id": "Fq6_q9opKy0X"
      },
      "source": [
        "## Looking for Correlations"
      ]
    },
    {
      "cell_type": "markdown",
      "metadata": {
        "id": "BUFV6Hqv4tYk"
      },
      "source": [
        "<h1><b>Q3: Look for correlations using pandas df.corr function, this will give you an output correlation matrix. Select the price column from that correlation matrix and sort its values descendingly  using a built-in pandas function.</b></h1>"
      ]
    },
    {
      "cell_type": "code",
      "execution_count": 29,
      "metadata": {
        "dotnet_interactive": {
          "language": "csharp"
        },
        "id": "q_g8CRM7PhfP",
        "vscode": {
          "languageId": "python"
        }
      },
      "outputs": [
        {
          "data": {
            "text/html": [
              "<div>\n",
              "<style scoped>\n",
              "    .dataframe tbody tr th:only-of-type {\n",
              "        vertical-align: middle;\n",
              "    }\n",
              "\n",
              "    .dataframe tbody tr th {\n",
              "        vertical-align: top;\n",
              "    }\n",
              "\n",
              "    .dataframe thead th {\n",
              "        text-align: right;\n",
              "    }\n",
              "</style>\n",
              "<table border=\"1\" class=\"dataframe\">\n",
              "  <thead>\n",
              "    <tr style=\"text-align: right;\">\n",
              "      <th></th>\n",
              "      <th>area</th>\n",
              "      <th>bathrooms</th>\n",
              "      <th>price</th>\n",
              "    </tr>\n",
              "  </thead>\n",
              "  <tbody>\n",
              "    <tr>\n",
              "      <th>area</th>\n",
              "      <td>1.00</td>\n",
              "      <td>0.68</td>\n",
              "      <td>0.27</td>\n",
              "    </tr>\n",
              "    <tr>\n",
              "      <th>bathrooms</th>\n",
              "      <td>0.68</td>\n",
              "      <td>1.00</td>\n",
              "      <td>0.36</td>\n",
              "    </tr>\n",
              "    <tr>\n",
              "      <th>price</th>\n",
              "      <td>0.27</td>\n",
              "      <td>0.36</td>\n",
              "      <td>1.00</td>\n",
              "    </tr>\n",
              "  </tbody>\n",
              "</table>\n",
              "</div>"
            ],
            "text/plain": [
              "           area  bathrooms  price\n",
              "area       1.00       0.68   0.27\n",
              "bathrooms  0.68       1.00   0.36\n",
              "price      0.27       0.36   1.00"
            ]
          },
          "execution_count": 29,
          "metadata": {},
          "output_type": "execute_result"
        }
      ],
      "source": [
        "# Look for correlations using pandas df.corr function\n",
        "correlation_matrix=train.corr()\n",
        "# select the price column from the correlation matrix and sort it in descending order\n",
        "correlation_matrix['price'].sort_values(ascending=False)\n",
        "\n"
      ]
    },
    {
      "cell_type": "markdown",
      "metadata": {
        "id": "9P0S9d4GKy0Y"
      },
      "source": [
        "# Prepare the Data for Machine Learning Algorithms"
      ]
    },
    {
      "cell_type": "markdown",
      "metadata": {
        "id": "YyAYK_nTKy0Z"
      },
      "source": [
        "## Data Cleaning"
      ]
    },
    {
      "cell_type": "markdown",
      "metadata": {
        "id": "PBZViPD9GaPE"
      },
      "source": [
        "<h1><b>Q4: Drop the ad_id column from the training set.</b></h1>"
      ]
    },
    {
      "cell_type": "code",
      "execution_count": 30,
      "metadata": {
        "dotnet_interactive": {
          "language": "csharp"
        },
        "id": "jeRMdfuzGd4y",
        "vscode": {
          "languageId": "python"
        }
      },
      "outputs": [],
      "source": [
        "#  Drop the ad_id column\n",
        "train.drop('ad_id', axis=1, inplace=True)"
      ]
    },
    {
      "cell_type": "markdown",
      "metadata": {
        "id": "mYRQw-5Y6q3_"
      },
      "source": [
        "<h1><b>Q5: Check how many NaN values are there in the dataset. Demonstrate the three ways we've covered to deal with NaN values</b></h1>"
      ]
    },
    {
      "cell_type": "code",
      "execution_count": 35,
      "metadata": {
        "dotnet_interactive": {
          "language": "csharp"
        },
        "id": "0ccnkQtKPkvl",
        "vscode": {
          "languageId": "python"
        }
      },
      "outputs": [
        {
          "data": {
            "text/html": [
              "<div>\n",
              "<style scoped>\n",
              "    .dataframe tbody tr th:only-of-type {\n",
              "        vertical-align: middle;\n",
              "    }\n",
              "\n",
              "    .dataframe tbody tr th {\n",
              "        vertical-align: top;\n",
              "    }\n",
              "\n",
              "    .dataframe thead th {\n",
              "        text-align: right;\n",
              "    }\n",
              "</style>\n",
              "<table border=\"1\" class=\"dataframe\">\n",
              "  <thead>\n",
              "    <tr style=\"text-align: right;\">\n",
              "      <th></th>\n",
              "      <th>type</th>\n",
              "      <th>area</th>\n",
              "      <th>bedrooms</th>\n",
              "      <th>bathrooms</th>\n",
              "      <th>level</th>\n",
              "      <th>furnished</th>\n",
              "      <th>rent</th>\n",
              "      <th>city</th>\n",
              "      <th>region</th>\n",
              "      <th>price</th>\n",
              "    </tr>\n",
              "  </thead>\n",
              "  <tbody>\n",
              "    <tr>\n",
              "      <th>0</th>\n",
              "      <td>apartment</td>\n",
              "      <td>155.00</td>\n",
              "      <td>2</td>\n",
              "      <td>3</td>\n",
              "      <td>ground</td>\n",
              "      <td>no</td>\n",
              "      <td>no</td>\n",
              "      <td>cairo</td>\n",
              "      <td>new cairo - el tagamoa</td>\n",
              "      <td>2569700.00</td>\n",
              "    </tr>\n",
              "    <tr>\n",
              "      <th>1</th>\n",
              "      <td>apartment</td>\n",
              "      <td>160.00</td>\n",
              "      <td>2</td>\n",
              "      <td>1</td>\n",
              "      <td>2</td>\n",
              "      <td>no</td>\n",
              "      <td>yes</td>\n",
              "      <td>alexandria</td>\n",
              "      <td>kafr abdo</td>\n",
              "      <td>7000.00</td>\n",
              "    </tr>\n",
              "    <tr>\n",
              "      <th>2</th>\n",
              "      <td>apartment</td>\n",
              "      <td>70.00</td>\n",
              "      <td>2</td>\n",
              "      <td>1</td>\n",
              "      <td>ground</td>\n",
              "      <td>no</td>\n",
              "      <td>no</td>\n",
              "      <td>cairo</td>\n",
              "      <td>nasr city</td>\n",
              "      <td>50000.00</td>\n",
              "    </tr>\n",
              "    <tr>\n",
              "      <th>3</th>\n",
              "      <td>apartment</td>\n",
              "      <td>220.00</td>\n",
              "      <td>3</td>\n",
              "      <td>3</td>\n",
              "      <td>10+</td>\n",
              "      <td>no</td>\n",
              "      <td>no</td>\n",
              "      <td>dakahlia</td>\n",
              "      <td>mansura</td>\n",
              "      <td>2475000.00</td>\n",
              "    </tr>\n",
              "    <tr>\n",
              "      <th>4</th>\n",
              "      <td>apartment</td>\n",
              "      <td>140.00</td>\n",
              "      <td>3</td>\n",
              "      <td>2</td>\n",
              "      <td>4</td>\n",
              "      <td>no</td>\n",
              "      <td>no</td>\n",
              "      <td>cairo</td>\n",
              "      <td>madinaty</td>\n",
              "      <td>3000000.00</td>\n",
              "    </tr>\n",
              "    <tr>\n",
              "      <th>...</th>\n",
              "      <td>...</td>\n",
              "      <td>...</td>\n",
              "      <td>...</td>\n",
              "      <td>...</td>\n",
              "      <td>...</td>\n",
              "      <td>...</td>\n",
              "      <td>...</td>\n",
              "      <td>...</td>\n",
              "      <td>...</td>\n",
              "      <td>...</td>\n",
              "    </tr>\n",
              "    <tr>\n",
              "      <th>14156</th>\n",
              "      <td>apartment</td>\n",
              "      <td>240.00</td>\n",
              "      <td>3</td>\n",
              "      <td>3</td>\n",
              "      <td>ground</td>\n",
              "      <td>yes</td>\n",
              "      <td>yes</td>\n",
              "      <td>giza</td>\n",
              "      <td>sheikh zayed</td>\n",
              "      <td>12000.00</td>\n",
              "    </tr>\n",
              "    <tr>\n",
              "      <th>14158</th>\n",
              "      <td>duplex</td>\n",
              "      <td>295.00</td>\n",
              "      <td>4</td>\n",
              "      <td>3</td>\n",
              "      <td>5</td>\n",
              "      <td>no</td>\n",
              "      <td>no</td>\n",
              "      <td>cairo</td>\n",
              "      <td>new capital city</td>\n",
              "      <td>3705000.00</td>\n",
              "    </tr>\n",
              "    <tr>\n",
              "      <th>14159</th>\n",
              "      <td>apartment</td>\n",
              "      <td>130.00</td>\n",
              "      <td>3</td>\n",
              "      <td>2</td>\n",
              "      <td>2</td>\n",
              "      <td>no</td>\n",
              "      <td>no</td>\n",
              "      <td>cairo</td>\n",
              "      <td>new cairo - el tagamoa</td>\n",
              "      <td>925000.00</td>\n",
              "    </tr>\n",
              "    <tr>\n",
              "      <th>14160</th>\n",
              "      <td>apartment</td>\n",
              "      <td>155.00</td>\n",
              "      <td>3</td>\n",
              "      <td>2</td>\n",
              "      <td>5</td>\n",
              "      <td>no</td>\n",
              "      <td>no</td>\n",
              "      <td>cairo</td>\n",
              "      <td>nasr city</td>\n",
              "      <td>1450000.00</td>\n",
              "    </tr>\n",
              "    <tr>\n",
              "      <th>14161</th>\n",
              "      <td>apartment</td>\n",
              "      <td>195.00</td>\n",
              "      <td>3</td>\n",
              "      <td>3</td>\n",
              "      <td>1</td>\n",
              "      <td>no</td>\n",
              "      <td>no</td>\n",
              "      <td>cairo</td>\n",
              "      <td>new cairo - el tagamoa</td>\n",
              "      <td>1100000.00</td>\n",
              "    </tr>\n",
              "  </tbody>\n",
              "</table>\n",
              "<p>11136 rows × 10 columns</p>\n",
              "</div>"
            ],
            "text/plain": [
              "            type   area bedrooms  bathrooms   level furnished rent  \\\n",
              "0      apartment 155.00        2          3  ground        no   no   \n",
              "1      apartment 160.00        2          1       2        no  yes   \n",
              "2      apartment  70.00        2          1  ground        no   no   \n",
              "3      apartment 220.00        3          3     10+        no   no   \n",
              "4      apartment 140.00        3          2       4        no   no   \n",
              "...          ...    ...      ...        ...     ...       ...  ...   \n",
              "14156  apartment 240.00        3          3  ground       yes  yes   \n",
              "14158     duplex 295.00        4          3       5        no   no   \n",
              "14159  apartment 130.00        3          2       2        no   no   \n",
              "14160  apartment 155.00        3          2       5        no   no   \n",
              "14161  apartment 195.00        3          3       1        no   no   \n",
              "\n",
              "             city                  region      price  \n",
              "0           cairo  new cairo - el tagamoa 2569700.00  \n",
              "1      alexandria               kafr abdo    7000.00  \n",
              "2           cairo               nasr city   50000.00  \n",
              "3        dakahlia                 mansura 2475000.00  \n",
              "4           cairo                madinaty 3000000.00  \n",
              "...           ...                     ...        ...  \n",
              "14156        giza            sheikh zayed   12000.00  \n",
              "14158       cairo        new capital city 3705000.00  \n",
              "14159       cairo  new cairo - el tagamoa  925000.00  \n",
              "14160       cairo               nasr city 1450000.00  \n",
              "14161       cairo  new cairo - el tagamoa 1100000.00  \n",
              "\n",
              "[11136 rows x 10 columns]"
            ]
          },
          "execution_count": 35,
          "metadata": {},
          "output_type": "execute_result"
        }
      ],
      "source": [
        "# Check how many NaN values are there in the dataset.\n",
        "train.isnull().sum()\n",
        "\n",
        "# drop the rows with Nan values\n",
        "train.dropna()\n",
        "\n"
      ]
    },
    {
      "cell_type": "markdown",
      "metadata": {
        "id": "Hni_KYI37OD_"
      },
      "source": [
        "<h1><b>Q5.1: Demonstrate how to drop the furnished column entirely (don't alter the train dataframe)</b></h1>"
      ]
    },
    {
      "cell_type": "code",
      "execution_count": null,
      "metadata": {
        "dotnet_interactive": {
          "language": "csharp"
        },
        "id": "kySYM36ZPmrh",
        "vscode": {
          "languageId": "python"
        }
      },
      "outputs": [],
      "source": [
        "# drop furnished column\n",
        "train.drop('furnished', axis=1, inplace=True)"
      ]
    },
    {
      "cell_type": "markdown",
      "metadata": {
        "id": "xtsodn6C7X6C"
      },
      "source": [
        "<h1><b>Q5.2: Demonstrate how to drop the rows which have a furnished value of NaN (don't alter the train dataframe)</b></h1>"
      ]
    },
    {
      "cell_type": "code",
      "execution_count": null,
      "metadata": {
        "dotnet_interactive": {
          "language": "csharp"
        },
        "id": "sI-HzCBLPqHZ",
        "vscode": {
          "languageId": "python"
        }
      },
      "outputs": [],
      "source": [
        "train.drop(train[train['furnished'] == 'furnished'].index, inplace = True)"
      ]
    },
    {
      "cell_type": "markdown",
      "metadata": {
        "id": "_BSabd047em5"
      },
      "source": [
        "<h1><b>Q5.3: Demonstrate how to count the most frequent value in the furnished column and how to fill na values with this value using pandas fillna function (don't alter the train dataframe)</b></h1>"
      ]
    },
    {
      "cell_type": "code",
      "execution_count": 36,
      "metadata": {
        "dotnet_interactive": {
          "language": "csharp"
        },
        "id": "fXsC8JcIPrfv",
        "vscode": {
          "languageId": "python"
        }
      },
      "outputs": [
        {
          "data": {
            "text/plain": [
              "no     8422\n",
              "yes    2714\n",
              "Name: furnished, dtype: int64"
            ]
          },
          "execution_count": 36,
          "metadata": {},
          "output_type": "execute_result"
        }
      ],
      "source": [
        "# count the most frequent value in the column\n",
        "train['furnished'].value_counts()\n",
        "# fill nan values with the most frequent value\n",
        "train['furnished'].fillna('unfurnished', inplace=True)"
      ]
    },
    {
      "cell_type": "markdown",
      "metadata": {
        "id": "BJLbKYsG9HC1"
      },
      "source": [
        "The next cell is to illustrate how you could solve Q5.3 using sklearn's SimpleImputer. You can use this as a reference for Q7."
      ]
    },
    {
      "cell_type": "code",
      "execution_count": 37,
      "metadata": {
        "colab": {
          "base_uri": "https://localhost:8080/"
        },
        "dotnet_interactive": {
          "language": "csharp"
        },
        "id": "CqLwYvHVKy0a",
        "outputId": "0b168f56-a308-451c-df2c-7e2a3946cf8e",
        "vscode": {
          "languageId": "python"
        }
      },
      "outputs": [
        {
          "data": {
            "text/plain": [
              "array([['no'],\n",
              "       ['no'],\n",
              "       ['no'],\n",
              "       ...,\n",
              "       ['no'],\n",
              "       ['no'],\n",
              "       ['no']], dtype=object)"
            ]
          },
          "execution_count": 37,
          "metadata": {},
          "output_type": "execute_result"
        }
      ],
      "source": [
        "from sklearn.impute import SimpleImputer\n",
        "\n",
        "columns_to_impute = ['furnished']\n",
        "\n",
        "imputer = SimpleImputer(strategy=\"most_frequent\")\n",
        "\n",
        "imputer.fit_transform(train[columns_to_impute])\n"
      ]
    },
    {
      "cell_type": "markdown",
      "metadata": {
        "id": "GFICInABRhDO"
      },
      "source": [
        "# Feature Engineering"
      ]
    },
    {
      "cell_type": "markdown",
      "metadata": {
        "id": "z0dWWSkU5P8j"
      },
      "source": [
        "<h1><b>Q6: You're free to experiment here with adding any features that could help improve the model's performance. Make sure to add them within the feature_engineer function</b></h1>"
      ]
    },
    {
      "cell_type": "code",
      "execution_count": 38,
      "metadata": {
        "dotnet_interactive": {
          "language": "csharp"
        },
        "id": "CVPYlSPoeBO5",
        "vscode": {
          "languageId": "python"
        }
      },
      "outputs": [],
      "source": [
        "\n",
        "def feature_engineer(df):\n",
        "  new_df = df.copy()\n",
        "  new_df['area_to_bathroom_ratio'] = new_df.area / new_df.bathrooms\n",
        "  return new_df\n",
        "\n",
        "train = feature_engineer(train)"
      ]
    },
    {
      "cell_type": "markdown",
      "metadata": {
        "id": "65FeYsKURoqt"
      },
      "source": [
        "# Preprocessing"
      ]
    },
    {
      "cell_type": "markdown",
      "metadata": {
        "id": "lNtuVDsA8SLC"
      },
      "source": [
        "<h1><b>Q6: Demonstrate how to use sklearn's OneHotEncoder on the categorical columns. Use the cat_columns and num_columns lists to quickly specify categorical or numerical attributes.</b></h1>"
      ]
    },
    {
      "cell_type": "code",
      "execution_count": 47,
      "metadata": {
        "dotnet_interactive": {
          "language": "csharp"
        },
        "id": "f-imW-Dr22P9",
        "vscode": {
          "languageId": "python"
        }
      },
      "outputs": [],
      "source": [
        "#Don't forget to add any column names you created during feature engineering here\n",
        "cat_columns = ['type', 'bedrooms', 'bathrooms', 'level', 'furnished', 'rent', 'city', 'region']\n",
        "\n",
        "num_columns = ['area', 'area_to_bathroom_ratio']"
      ]
    },
    {
      "cell_type": "code",
      "execution_count": 41,
      "metadata": {
        "vscode": {
          "languageId": "python"
        }
      },
      "outputs": [],
      "source": [
        "from sklearn.preprocessing import OneHotEncoder\n"
      ]
    },
    {
      "cell_type": "code",
      "execution_count": 57,
      "metadata": {
        "dotnet_interactive": {
          "language": "csharp"
        },
        "id": "ksPMaTz1Ky0g",
        "vscode": {
          "languageId": "python"
        }
      },
      "outputs": [],
      "source": [
        "# use sklearn's OneHotEncoder on the categorical columns\n",
        "\n",
        "cat_encoder = OneHotEncoder(sparse=False, handle_unknown='ignore')\n",
        "#Call the cat_encoder's fit_transform function on the train set's cat columns here\n",
        "train_cat_one_hot = cat_encoder.fit_transform(train[cat_columns])\n"
      ]
    },
    {
      "cell_type": "markdown",
      "metadata": {
        "id": "BL5tvG-KTxOg"
      },
      "source": [
        "If the previous cell was correct, you should see the one hot encoded outputs as a DataFrame by runnning the next cell"
      ]
    },
    {
      "cell_type": "code",
      "execution_count": 58,
      "metadata": {
        "dotnet_interactive": {
          "language": "csharp"
        },
        "id": "zWpuXvOnUAYO",
        "vscode": {
          "languageId": "python"
        }
      },
      "outputs": [
        {
          "data": {
            "text/html": [
              "<div>\n",
              "<style scoped>\n",
              "    .dataframe tbody tr th:only-of-type {\n",
              "        vertical-align: middle;\n",
              "    }\n",
              "\n",
              "    .dataframe tbody tr th {\n",
              "        vertical-align: top;\n",
              "    }\n",
              "\n",
              "    .dataframe thead th {\n",
              "        text-align: right;\n",
              "    }\n",
              "</style>\n",
              "<table border=\"1\" class=\"dataframe\">\n",
              "  <thead>\n",
              "    <tr style=\"text-align: right;\">\n",
              "      <th></th>\n",
              "      <th>type_apartment</th>\n",
              "      <th>type_duplex</th>\n",
              "      <th>type_penthouse</th>\n",
              "      <th>type_room</th>\n",
              "      <th>type_studio</th>\n",
              "      <th>bedrooms_1</th>\n",
              "      <th>bedrooms_10</th>\n",
              "      <th>bedrooms_10+</th>\n",
              "      <th>bedrooms_2</th>\n",
              "      <th>bedrooms_3</th>\n",
              "      <th>...</th>\n",
              "      <th>region_waili</th>\n",
              "      <th>region_wardian</th>\n",
              "      <th>region_warraq</th>\n",
              "      <th>region_west somid</th>\n",
              "      <th>region_zagazig</th>\n",
              "      <th>region_zahraa al maadi</th>\n",
              "      <th>region_zamalek</th>\n",
              "      <th>region_zawya al-hamra</th>\n",
              "      <th>region_zezenia</th>\n",
              "      <th>region_zohour district</th>\n",
              "    </tr>\n",
              "  </thead>\n",
              "  <tbody>\n",
              "    <tr>\n",
              "      <th>0</th>\n",
              "      <td>1.00</td>\n",
              "      <td>0.00</td>\n",
              "      <td>0.00</td>\n",
              "      <td>0.00</td>\n",
              "      <td>0.00</td>\n",
              "      <td>0.00</td>\n",
              "      <td>0.00</td>\n",
              "      <td>0.00</td>\n",
              "      <td>1.00</td>\n",
              "      <td>0.00</td>\n",
              "      <td>...</td>\n",
              "      <td>0.00</td>\n",
              "      <td>0.00</td>\n",
              "      <td>0.00</td>\n",
              "      <td>0.00</td>\n",
              "      <td>0.00</td>\n",
              "      <td>0.00</td>\n",
              "      <td>0.00</td>\n",
              "      <td>0.00</td>\n",
              "      <td>0.00</td>\n",
              "      <td>0.00</td>\n",
              "    </tr>\n",
              "    <tr>\n",
              "      <th>1</th>\n",
              "      <td>1.00</td>\n",
              "      <td>0.00</td>\n",
              "      <td>0.00</td>\n",
              "      <td>0.00</td>\n",
              "      <td>0.00</td>\n",
              "      <td>0.00</td>\n",
              "      <td>0.00</td>\n",
              "      <td>0.00</td>\n",
              "      <td>1.00</td>\n",
              "      <td>0.00</td>\n",
              "      <td>...</td>\n",
              "      <td>0.00</td>\n",
              "      <td>0.00</td>\n",
              "      <td>0.00</td>\n",
              "      <td>0.00</td>\n",
              "      <td>0.00</td>\n",
              "      <td>0.00</td>\n",
              "      <td>0.00</td>\n",
              "      <td>0.00</td>\n",
              "      <td>0.00</td>\n",
              "      <td>0.00</td>\n",
              "    </tr>\n",
              "    <tr>\n",
              "      <th>2</th>\n",
              "      <td>1.00</td>\n",
              "      <td>0.00</td>\n",
              "      <td>0.00</td>\n",
              "      <td>0.00</td>\n",
              "      <td>0.00</td>\n",
              "      <td>0.00</td>\n",
              "      <td>0.00</td>\n",
              "      <td>0.00</td>\n",
              "      <td>1.00</td>\n",
              "      <td>0.00</td>\n",
              "      <td>...</td>\n",
              "      <td>0.00</td>\n",
              "      <td>0.00</td>\n",
              "      <td>0.00</td>\n",
              "      <td>0.00</td>\n",
              "      <td>0.00</td>\n",
              "      <td>0.00</td>\n",
              "      <td>0.00</td>\n",
              "      <td>0.00</td>\n",
              "      <td>0.00</td>\n",
              "      <td>0.00</td>\n",
              "    </tr>\n",
              "    <tr>\n",
              "      <th>3</th>\n",
              "      <td>1.00</td>\n",
              "      <td>0.00</td>\n",
              "      <td>0.00</td>\n",
              "      <td>0.00</td>\n",
              "      <td>0.00</td>\n",
              "      <td>0.00</td>\n",
              "      <td>0.00</td>\n",
              "      <td>0.00</td>\n",
              "      <td>0.00</td>\n",
              "      <td>1.00</td>\n",
              "      <td>...</td>\n",
              "      <td>0.00</td>\n",
              "      <td>0.00</td>\n",
              "      <td>0.00</td>\n",
              "      <td>0.00</td>\n",
              "      <td>0.00</td>\n",
              "      <td>0.00</td>\n",
              "      <td>0.00</td>\n",
              "      <td>0.00</td>\n",
              "      <td>0.00</td>\n",
              "      <td>0.00</td>\n",
              "    </tr>\n",
              "    <tr>\n",
              "      <th>4</th>\n",
              "      <td>1.00</td>\n",
              "      <td>0.00</td>\n",
              "      <td>0.00</td>\n",
              "      <td>0.00</td>\n",
              "      <td>0.00</td>\n",
              "      <td>0.00</td>\n",
              "      <td>0.00</td>\n",
              "      <td>0.00</td>\n",
              "      <td>0.00</td>\n",
              "      <td>1.00</td>\n",
              "      <td>...</td>\n",
              "      <td>0.00</td>\n",
              "      <td>0.00</td>\n",
              "      <td>0.00</td>\n",
              "      <td>0.00</td>\n",
              "      <td>0.00</td>\n",
              "      <td>0.00</td>\n",
              "      <td>0.00</td>\n",
              "      <td>0.00</td>\n",
              "      <td>0.00</td>\n",
              "      <td>0.00</td>\n",
              "    </tr>\n",
              "    <tr>\n",
              "      <th>...</th>\n",
              "      <td>...</td>\n",
              "      <td>...</td>\n",
              "      <td>...</td>\n",
              "      <td>...</td>\n",
              "      <td>...</td>\n",
              "      <td>...</td>\n",
              "      <td>...</td>\n",
              "      <td>...</td>\n",
              "      <td>...</td>\n",
              "      <td>...</td>\n",
              "      <td>...</td>\n",
              "      <td>...</td>\n",
              "      <td>...</td>\n",
              "      <td>...</td>\n",
              "      <td>...</td>\n",
              "      <td>...</td>\n",
              "      <td>...</td>\n",
              "      <td>...</td>\n",
              "      <td>...</td>\n",
              "      <td>...</td>\n",
              "      <td>...</td>\n",
              "    </tr>\n",
              "    <tr>\n",
              "      <th>14157</th>\n",
              "      <td>1.00</td>\n",
              "      <td>0.00</td>\n",
              "      <td>0.00</td>\n",
              "      <td>0.00</td>\n",
              "      <td>0.00</td>\n",
              "      <td>0.00</td>\n",
              "      <td>0.00</td>\n",
              "      <td>0.00</td>\n",
              "      <td>1.00</td>\n",
              "      <td>0.00</td>\n",
              "      <td>...</td>\n",
              "      <td>0.00</td>\n",
              "      <td>0.00</td>\n",
              "      <td>0.00</td>\n",
              "      <td>0.00</td>\n",
              "      <td>0.00</td>\n",
              "      <td>0.00</td>\n",
              "      <td>0.00</td>\n",
              "      <td>0.00</td>\n",
              "      <td>0.00</td>\n",
              "      <td>0.00</td>\n",
              "    </tr>\n",
              "    <tr>\n",
              "      <th>14158</th>\n",
              "      <td>0.00</td>\n",
              "      <td>1.00</td>\n",
              "      <td>0.00</td>\n",
              "      <td>0.00</td>\n",
              "      <td>0.00</td>\n",
              "      <td>0.00</td>\n",
              "      <td>0.00</td>\n",
              "      <td>0.00</td>\n",
              "      <td>0.00</td>\n",
              "      <td>0.00</td>\n",
              "      <td>...</td>\n",
              "      <td>0.00</td>\n",
              "      <td>0.00</td>\n",
              "      <td>0.00</td>\n",
              "      <td>0.00</td>\n",
              "      <td>0.00</td>\n",
              "      <td>0.00</td>\n",
              "      <td>0.00</td>\n",
              "      <td>0.00</td>\n",
              "      <td>0.00</td>\n",
              "      <td>0.00</td>\n",
              "    </tr>\n",
              "    <tr>\n",
              "      <th>14159</th>\n",
              "      <td>1.00</td>\n",
              "      <td>0.00</td>\n",
              "      <td>0.00</td>\n",
              "      <td>0.00</td>\n",
              "      <td>0.00</td>\n",
              "      <td>0.00</td>\n",
              "      <td>0.00</td>\n",
              "      <td>0.00</td>\n",
              "      <td>0.00</td>\n",
              "      <td>1.00</td>\n",
              "      <td>...</td>\n",
              "      <td>0.00</td>\n",
              "      <td>0.00</td>\n",
              "      <td>0.00</td>\n",
              "      <td>0.00</td>\n",
              "      <td>0.00</td>\n",
              "      <td>0.00</td>\n",
              "      <td>0.00</td>\n",
              "      <td>0.00</td>\n",
              "      <td>0.00</td>\n",
              "      <td>0.00</td>\n",
              "    </tr>\n",
              "    <tr>\n",
              "      <th>14160</th>\n",
              "      <td>1.00</td>\n",
              "      <td>0.00</td>\n",
              "      <td>0.00</td>\n",
              "      <td>0.00</td>\n",
              "      <td>0.00</td>\n",
              "      <td>0.00</td>\n",
              "      <td>0.00</td>\n",
              "      <td>0.00</td>\n",
              "      <td>0.00</td>\n",
              "      <td>1.00</td>\n",
              "      <td>...</td>\n",
              "      <td>0.00</td>\n",
              "      <td>0.00</td>\n",
              "      <td>0.00</td>\n",
              "      <td>0.00</td>\n",
              "      <td>0.00</td>\n",
              "      <td>0.00</td>\n",
              "      <td>0.00</td>\n",
              "      <td>0.00</td>\n",
              "      <td>0.00</td>\n",
              "      <td>0.00</td>\n",
              "    </tr>\n",
              "    <tr>\n",
              "      <th>14161</th>\n",
              "      <td>1.00</td>\n",
              "      <td>0.00</td>\n",
              "      <td>0.00</td>\n",
              "      <td>0.00</td>\n",
              "      <td>0.00</td>\n",
              "      <td>0.00</td>\n",
              "      <td>0.00</td>\n",
              "      <td>0.00</td>\n",
              "      <td>0.00</td>\n",
              "      <td>1.00</td>\n",
              "      <td>...</td>\n",
              "      <td>0.00</td>\n",
              "      <td>0.00</td>\n",
              "      <td>0.00</td>\n",
              "      <td>0.00</td>\n",
              "      <td>0.00</td>\n",
              "      <td>0.00</td>\n",
              "      <td>0.00</td>\n",
              "      <td>0.00</td>\n",
              "      <td>0.00</td>\n",
              "      <td>0.00</td>\n",
              "    </tr>\n",
              "  </tbody>\n",
              "</table>\n",
              "<p>14162 rows × 233 columns</p>\n",
              "</div>"
            ],
            "text/plain": [
              "       type_apartment  type_duplex  type_penthouse  type_room  type_studio  \\\n",
              "0                1.00         0.00            0.00       0.00         0.00   \n",
              "1                1.00         0.00            0.00       0.00         0.00   \n",
              "2                1.00         0.00            0.00       0.00         0.00   \n",
              "3                1.00         0.00            0.00       0.00         0.00   \n",
              "4                1.00         0.00            0.00       0.00         0.00   \n",
              "...               ...          ...             ...        ...          ...   \n",
              "14157            1.00         0.00            0.00       0.00         0.00   \n",
              "14158            0.00         1.00            0.00       0.00         0.00   \n",
              "14159            1.00         0.00            0.00       0.00         0.00   \n",
              "14160            1.00         0.00            0.00       0.00         0.00   \n",
              "14161            1.00         0.00            0.00       0.00         0.00   \n",
              "\n",
              "       bedrooms_1  bedrooms_10  bedrooms_10+  bedrooms_2  bedrooms_3  ...  \\\n",
              "0            0.00         0.00          0.00        1.00        0.00  ...   \n",
              "1            0.00         0.00          0.00        1.00        0.00  ...   \n",
              "2            0.00         0.00          0.00        1.00        0.00  ...   \n",
              "3            0.00         0.00          0.00        0.00        1.00  ...   \n",
              "4            0.00         0.00          0.00        0.00        1.00  ...   \n",
              "...           ...          ...           ...         ...         ...  ...   \n",
              "14157        0.00         0.00          0.00        1.00        0.00  ...   \n",
              "14158        0.00         0.00          0.00        0.00        0.00  ...   \n",
              "14159        0.00         0.00          0.00        0.00        1.00  ...   \n",
              "14160        0.00         0.00          0.00        0.00        1.00  ...   \n",
              "14161        0.00         0.00          0.00        0.00        1.00  ...   \n",
              "\n",
              "       region_waili  region_wardian  region_warraq  region_west somid  \\\n",
              "0              0.00            0.00           0.00               0.00   \n",
              "1              0.00            0.00           0.00               0.00   \n",
              "2              0.00            0.00           0.00               0.00   \n",
              "3              0.00            0.00           0.00               0.00   \n",
              "4              0.00            0.00           0.00               0.00   \n",
              "...             ...             ...            ...                ...   \n",
              "14157          0.00            0.00           0.00               0.00   \n",
              "14158          0.00            0.00           0.00               0.00   \n",
              "14159          0.00            0.00           0.00               0.00   \n",
              "14160          0.00            0.00           0.00               0.00   \n",
              "14161          0.00            0.00           0.00               0.00   \n",
              "\n",
              "       region_zagazig  region_zahraa al maadi  region_zamalek  \\\n",
              "0                0.00                    0.00            0.00   \n",
              "1                0.00                    0.00            0.00   \n",
              "2                0.00                    0.00            0.00   \n",
              "3                0.00                    0.00            0.00   \n",
              "4                0.00                    0.00            0.00   \n",
              "...               ...                     ...             ...   \n",
              "14157            0.00                    0.00            0.00   \n",
              "14158            0.00                    0.00            0.00   \n",
              "14159            0.00                    0.00            0.00   \n",
              "14160            0.00                    0.00            0.00   \n",
              "14161            0.00                    0.00            0.00   \n",
              "\n",
              "       region_zawya al-hamra  region_zezenia  region_zohour district  \n",
              "0                       0.00            0.00                    0.00  \n",
              "1                       0.00            0.00                    0.00  \n",
              "2                       0.00            0.00                    0.00  \n",
              "3                       0.00            0.00                    0.00  \n",
              "4                       0.00            0.00                    0.00  \n",
              "...                      ...             ...                     ...  \n",
              "14157                   0.00            0.00                    0.00  \n",
              "14158                   0.00            0.00                    0.00  \n",
              "14159                   0.00            0.00                    0.00  \n",
              "14160                   0.00            0.00                    0.00  \n",
              "14161                   0.00            0.00                    0.00  \n",
              "\n",
              "[14162 rows x 233 columns]"
            ]
          },
          "execution_count": 58,
          "metadata": {},
          "output_type": "execute_result"
        }
      ],
      "source": [
        "cat_one_hot_df = pd.DataFrame(train_cat_one_hot, \n",
        "                              columns= cat_encoder.get_feature_names_out(), \n",
        "                              index = train.index);\n",
        "cat_one_hot_df"
      ]
    },
    {
      "cell_type": "markdown",
      "metadata": {
        "id": "agQ8BJIWKy0j"
      },
      "source": [
        "<h1><b>Q7: Demonstrate how to use sklearn's MinMaxScaler on the numerical columns. Use the cat_columns and num_columns lists to quickly specify categorical or numerical attributes. Use the same process as OneHotEncoder but for num_columns</b></h1>"
      ]
    },
    {
      "cell_type": "code",
      "execution_count": 59,
      "metadata": {
        "vscode": {
          "languageId": "python"
        }
      },
      "outputs": [],
      "source": [
        "from sklearn.preprocessing import MinMaxScaler\n"
      ]
    },
    {
      "cell_type": "code",
      "execution_count": 61,
      "metadata": {
        "dotnet_interactive": {
          "language": "csharp"
        },
        "id": "4FC9feNEKy0k",
        "vscode": {
          "languageId": "python"
        }
      },
      "outputs": [
        {
          "data": {
            "text/html": [
              "<div>\n",
              "<style scoped>\n",
              "    .dataframe tbody tr th:only-of-type {\n",
              "        vertical-align: middle;\n",
              "    }\n",
              "\n",
              "    .dataframe tbody tr th {\n",
              "        vertical-align: top;\n",
              "    }\n",
              "\n",
              "    .dataframe thead th {\n",
              "        text-align: right;\n",
              "    }\n",
              "</style>\n",
              "<table border=\"1\" class=\"dataframe\">\n",
              "  <thead>\n",
              "    <tr style=\"text-align: right;\">\n",
              "      <th></th>\n",
              "      <th>area</th>\n",
              "      <th>area_to_bathroom_ratio</th>\n",
              "    </tr>\n",
              "  </thead>\n",
              "  <tbody>\n",
              "    <tr>\n",
              "      <th>0</th>\n",
              "      <td>0.16</td>\n",
              "      <td>0.09</td>\n",
              "    </tr>\n",
              "    <tr>\n",
              "      <th>1</th>\n",
              "      <td>0.16</td>\n",
              "      <td>0.27</td>\n",
              "    </tr>\n",
              "    <tr>\n",
              "      <th>2</th>\n",
              "      <td>0.07</td>\n",
              "      <td>0.12</td>\n",
              "    </tr>\n",
              "    <tr>\n",
              "      <th>3</th>\n",
              "      <td>0.22</td>\n",
              "      <td>0.12</td>\n",
              "    </tr>\n",
              "    <tr>\n",
              "      <th>4</th>\n",
              "      <td>0.14</td>\n",
              "      <td>0.12</td>\n",
              "    </tr>\n",
              "    <tr>\n",
              "      <th>...</th>\n",
              "      <td>...</td>\n",
              "      <td>...</td>\n",
              "    </tr>\n",
              "    <tr>\n",
              "      <th>14157</th>\n",
              "      <td>0.13</td>\n",
              "      <td>0.11</td>\n",
              "    </tr>\n",
              "    <tr>\n",
              "      <th>14158</th>\n",
              "      <td>0.30</td>\n",
              "      <td>0.16</td>\n",
              "    </tr>\n",
              "    <tr>\n",
              "      <th>14159</th>\n",
              "      <td>0.13</td>\n",
              "      <td>0.11</td>\n",
              "    </tr>\n",
              "    <tr>\n",
              "      <th>14160</th>\n",
              "      <td>0.16</td>\n",
              "      <td>0.13</td>\n",
              "    </tr>\n",
              "    <tr>\n",
              "      <th>14161</th>\n",
              "      <td>0.20</td>\n",
              "      <td>0.11</td>\n",
              "    </tr>\n",
              "  </tbody>\n",
              "</table>\n",
              "<p>14162 rows × 2 columns</p>\n",
              "</div>"
            ],
            "text/plain": [
              "       area  area_to_bathroom_ratio\n",
              "0      0.16                    0.09\n",
              "1      0.16                    0.27\n",
              "2      0.07                    0.12\n",
              "3      0.22                    0.12\n",
              "4      0.14                    0.12\n",
              "...     ...                     ...\n",
              "14157  0.13                    0.11\n",
              "14158  0.30                    0.16\n",
              "14159  0.13                    0.11\n",
              "14160  0.16                    0.13\n",
              "14161  0.20                    0.11\n",
              "\n",
              "[14162 rows x 2 columns]"
            ]
          },
          "execution_count": 61,
          "metadata": {},
          "output_type": "execute_result"
        }
      ],
      "source": [
        "# use sklearn's MinMaxScaler on the numerical columns\n",
        "num_scaler = MinMaxScaler()\n",
        "# Use the cat_columns and num_columns lists to quickly specify categorical or numerical attributes\n",
        "train_num_scaled = num_scaler.fit_transform(train[num_columns])\n",
        "# Use the same process as OneHotEncoder but for num_columns\n",
        "num_scaled_df = pd.DataFrame(train_num_scaled, columns=num_columns, index=train.index)\n",
        "num_scaled_df"
      ]
    },
    {
      "cell_type": "markdown",
      "metadata": {
        "id": "vHjcbi0WUONY"
      },
      "source": [
        "All previous preprocessing steps were for demonstration purposes. We'll actually be using sklearn's pipeline feature to construct our preprocessing pipeline like so:"
      ]
    },
    {
      "cell_type": "markdown",
      "metadata": {
        "id": "lVr_4ajeKy0r"
      },
      "source": [
        "## Transformation Pipelines"
      ]
    },
    {
      "cell_type": "markdown",
      "metadata": {
        "id": "2BBi1d_4UdSn"
      },
      "source": [
        "The next cell is an example for how to create a pipeline for categorical features only. It's a way to execute all the preprocessing steps using one call to cat_pipeline"
      ]
    },
    {
      "cell_type": "code",
      "execution_count": 62,
      "metadata": {
        "dotnet_interactive": {
          "language": "csharp"
        },
        "id": "iAd2I0v_VKXm",
        "vscode": {
          "languageId": "python"
        }
      },
      "outputs": [
        {
          "data": {
            "text/plain": [
              "<14162x232 sparse matrix of type '<class 'numpy.float64'>'\n",
              "\twith 113296 stored elements in Compressed Sparse Row format>"
            ]
          },
          "execution_count": 62,
          "metadata": {},
          "output_type": "execute_result"
        }
      ],
      "source": [
        "from sklearn.pipeline import make_pipeline\n",
        "\n",
        "cat_pipeline = make_pipeline(\n",
        "    SimpleImputer(strategy=\"most_frequent\"),\n",
        "    OneHotEncoder(handle_unknown=\"ignore\"))\n",
        "\n",
        "cat_pipeline.fit_transform(train[cat_columns])"
      ]
    },
    {
      "cell_type": "code",
      "execution_count": 63,
      "metadata": {
        "colab": {
          "base_uri": "https://localhost:8080/"
        },
        "dotnet_interactive": {
          "language": "csharp"
        },
        "id": "lwiM6C-bKy0s",
        "outputId": "0233ca73-6ba8-4a76-d688-1be248990916",
        "vscode": {
          "languageId": "python"
        }
      },
      "outputs": [
        {
          "data": {
            "text/plain": [
              "[('simpleimputer', SimpleImputer(strategy='most_frequent')),\n",
              " ('onehotencoder', OneHotEncoder(handle_unknown='ignore'))]"
            ]
          },
          "execution_count": 63,
          "metadata": {},
          "output_type": "execute_result"
        }
      ],
      "source": [
        "cat_pipeline.steps"
      ]
    },
    {
      "cell_type": "markdown",
      "metadata": {
        "id": "xHwRthAJVPKx"
      },
      "source": [
        "<h1><b>Q8: Define num_pipeline in the same way as cat_pipeline above but using SimpleImputer(strategy=\"median\") and MinMaxScaler() instead</b></h1>"
      ]
    },
    {
      "cell_type": "code",
      "execution_count": 66,
      "metadata": {
        "dotnet_interactive": {
          "language": "csharp"
        },
        "id": "eKjr2Y8OVzJX",
        "vscode": {
          "languageId": "python"
        }
      },
      "outputs": [
        {
          "data": {
            "text/plain": [
              "[('simpleimputer', SimpleImputer(strategy='most_frequent')),\n",
              " ('onehotencoder', OneHotEncoder(handle_unknown='ignore'))]"
            ]
          },
          "execution_count": 66,
          "metadata": {},
          "output_type": "execute_result"
        }
      ],
      "source": [
        "num_pipeline = make_pipeline(\n",
        "    SimpleImputer(strategy=\"median\"),\n",
        "    MinMaxScaler(),\n",
        ")\n",
        "\n",
        "cat_pipeline.fit_transform(train[cat_columns])\n",
        "cat_pipeline.steps"
      ]
    },
    {
      "cell_type": "markdown",
      "metadata": {
        "id": "3qjT_3cWVzkY"
      },
      "source": [
        "The next cell shows how to combine the two pipelines for numerical and categorical features to create our preprocessing pipeline for all features"
      ]
    },
    {
      "cell_type": "code",
      "execution_count": 67,
      "metadata": {
        "dotnet_interactive": {
          "language": "csharp"
        },
        "id": "2JD_0oqEKy0u",
        "vscode": {
          "languageId": "python"
        }
      },
      "outputs": [],
      "source": [
        "from sklearn.compose import ColumnTransformer\n",
        "\n",
        "preprocessing = ColumnTransformer([\n",
        "    (\"num\", num_pipeline, num_columns),\n",
        "    (\"cat\", cat_pipeline, cat_columns),\n",
        "])"
      ]
    },
    {
      "cell_type": "markdown",
      "metadata": {
        "id": "hhZJCOnyWAR5"
      },
      "source": [
        "<h1><b>Q9: Define a variable X equal to all columns in the train dataset except price. Define another variable y that's just the price column</b></h1>"
      ]
    },
    {
      "cell_type": "code",
      "execution_count": 71,
      "metadata": {
        "dotnet_interactive": {
          "language": "csharp"
        },
        "id": "QlPapa8Jwhdz",
        "vscode": {
          "languageId": "python"
        }
      },
      "outputs": [],
      "source": [
        "# Define a variable X equal to all columns in the train dataset except price.\n",
        "X=train.loc[:, train.columns != 'price']\n",
        "\n",
        "y = train['price']\n"
      ]
    },
    {
      "cell_type": "markdown",
      "metadata": {
        "id": "YUq8KLVIKy0v"
      },
      "source": [
        "# Select and Train a Model"
      ]
    },
    {
      "cell_type": "markdown",
      "metadata": {
        "id": "sR9KdRErKy0w"
      },
      "source": [
        "## Training and Evaluating on the Training Set"
      ]
    },
    {
      "cell_type": "markdown",
      "metadata": {
        "id": "m8fnFcQcWNhZ"
      },
      "source": [
        "The following cell demonstrates how to import a simple LinearRegression model and that you can add models at the end of existing pipelines to make a pipeline for preprocessing and training"
      ]
    },
    {
      "cell_type": "code",
      "execution_count": 75,
      "metadata": {
        "colab": {
          "base_uri": "https://localhost:8080/"
        },
        "dotnet_interactive": {
          "language": "csharp"
        },
        "id": "k-HxuwKwKy0w",
        "outputId": "08098d02-44d0-4d3a-8d79-94e24fa13901",
        "vscode": {
          "languageId": "python"
        }
      },
      "outputs": [
        {
          "data": {
            "text/plain": [
              "1314528.7861495835"
            ]
          },
          "execution_count": 75,
          "metadata": {},
          "output_type": "execute_result"
        }
      ],
      "source": [
        "from sklearn.linear_model import LinearRegression\n",
        "from sklearn.metrics import mean_squared_error\n",
        "\n",
        "lin_reg = make_pipeline(preprocessing, LinearRegression())\n",
        "#This fits the model with the X as input and y as the target\n",
        "lin_reg.fit(X, y) \n",
        "#This is making predictions on the training set which doesn't make sense\n",
        "#It's only used here to demonstrate how to use the model to make predictions\n",
        "predictions = lin_reg.predict(X) \n",
        "#Let's see the RMSE for the model on the training set\n",
        "#Look at the documentation for mean_squared_error for more info\n",
        "lin_rmse = mean_squared_error(y, predictions,\n",
        "                              squared=False)\n",
        "lin_rmse"
      ]
    },
    {
      "cell_type": "markdown",
      "metadata": {
        "id": "z98EGIazY5bO"
      },
      "source": [
        "<h1><b>Q10: Import the RandomForestRegressor model and create a pipeline like the previous cell but with RandomForestRegressor instead of LinearRegressor. Don't forget to set the random_state parameter to any number to get reproducible results</b></h1>"
      ]
    },
    {
      "cell_type": "code",
      "execution_count": 76,
      "metadata": {
        "dotnet_interactive": {
          "language": "csharp"
        },
        "id": "rKyJS4D4ak2C",
        "vscode": {
          "languageId": "python"
        }
      },
      "outputs": [
        {
          "data": {
            "text/plain": [
              "654631.4555746771"
            ]
          },
          "execution_count": 76,
          "metadata": {},
          "output_type": "execute_result"
        }
      ],
      "source": [
        "from sklearn.ensemble import RandomForestRegressor\n",
        "\n",
        "forest_reg = make_pipeline(preprocessing, RandomForestRegressor())\n",
        "forest_reg.fit(X, y)\n",
        "forest_predictions = forest_reg.predict(X)\n",
        "forest_rmse = mean_squared_error(y, forest_predictions, squared=False)\n",
        "forest_rmse\n",
        "\n",
        "    "
      ]
    },
    {
      "cell_type": "markdown",
      "metadata": {
        "id": "geYRFEMHKy0y"
      },
      "source": [
        "## Better Evaluation Using Cross-Validation"
      ]
    },
    {
      "cell_type": "markdown",
      "metadata": {
        "id": "ZwkESkMGaJEK"
      },
      "source": [
        "<h1><b>Q11: Now import and use the cross_val_score function from sklearn. You need to pass in your model's pipeline, the X and y, and then specify the scoring metric to be \"neg_root_mean_squared_error\". </b></h1>"
      ]
    },
    {
      "cell_type": "markdown",
      "metadata": {
        "id": "NFfBowVhasF5"
      },
      "source": [
        "Note: This might take a few minutes to run!"
      ]
    },
    {
      "cell_type": "markdown",
      "metadata": {
        "id": "miTbIMYRbYHY"
      },
      "source": [
        "Another Note: The cross_val_score function already splits the training data into training and validation data and reports the validation score.\n",
        "There's no test data for you to split because I had already split it and won't make it available to you till later on :P"
      ]
    },
    {
      "cell_type": "code",
      "execution_count": 77,
      "metadata": {
        "dotnet_interactive": {
          "language": "csharp"
        },
        "id": "gxxIuQILZt8c",
        "vscode": {
          "languageId": "python"
        }
      },
      "outputs": [],
      "source": [
        "from sklearn.model_selection import cross_val_score\n",
        "lin_scores = cross_val_score(lin_reg, X, y, scoring=\"neg_root_mean_squared_error\", cv=10)\n",
        "forest_scores = cross_val_score(forest_reg, X, y, scoring=\"neg_root_mean_squared_error\", cv=10)"
      ]
    },
    {
      "cell_type": "markdown",
      "metadata": {
        "id": "6jqVCScJKy0z"
      },
      "source": [
        "# Fine-Tune Your Model"
      ]
    },
    {
      "cell_type": "markdown",
      "metadata": {
        "id": "mYlMTc7JKy00"
      },
      "source": [
        "## Grid Search"
      ]
    },
    {
      "cell_type": "markdown",
      "metadata": {
        "id": "qfupzsFMbTih"
      },
      "source": [
        "The following demonstrates how to use grid search to do exhaustive search using the full pipeline (preprocessing + model).\n",
        "\n",
        "It tries all combinations of the provided values and selects the model with the best score."
      ]
    },
    {
      "cell_type": "code",
      "execution_count": 80,
      "metadata": {
        "dotnet_interactive": {
          "language": "csharp"
        },
        "id": "-J20SYlVKy00",
        "vscode": {
          "languageId": "python"
        }
      },
      "outputs": [
        {
          "data": {
            "text/plain": [
              "GridSearchCV(cv=3,\n",
              "             estimator=Pipeline(steps=[('preprocessing',\n",
              "                                        ColumnTransformer(transformers=[('num',\n",
              "                                                                         Pipeline(steps=[('simpleimputer',\n",
              "                                                                                          SimpleImputer(strategy='median')),\n",
              "                                                                                         ('minmaxscaler',\n",
              "                                                                                          MinMaxScaler())]),\n",
              "                                                                         ['area',\n",
              "                                                                          'area_to_bathroom_ratio']),\n",
              "                                                                        ('cat',\n",
              "                                                                         Pipeline(steps=[('simpleimputer',\n",
              "                                                                                          SimpleImputer(strategy='most_frequent')),\n",
              "                                                                                         ('onehotencoder',\n",
              "                                                                                          OneHotEncoder(ha...]),\n",
              "                                                                         ['type',\n",
              "                                                                          'bedrooms',\n",
              "                                                                          'bathrooms',\n",
              "                                                                          'level',\n",
              "                                                                          'furnished',\n",
              "                                                                          'rent',\n",
              "                                                                          'city',\n",
              "                                                                          'region'])])),\n",
              "                                       ('random_forest',\n",
              "                                        RandomForestRegressor(random_state=42))]),\n",
              "             param_grid=[{'random_forest__max_features': [4, 6, 8],\n",
              "                          'random_forest__n_estimators': [16, 32]},\n",
              "                         {'random_forest__max_features': [6, 8, 10],\n",
              "                          'random_forest__n_estimators': [64, 128]}],\n",
              "             scoring='neg_root_mean_squared_error')"
            ]
          },
          "execution_count": 80,
          "metadata": {},
          "output_type": "execute_result"
        }
      ],
      "source": [
        "from sklearn.model_selection import GridSearchCV\n",
        "from sklearn.pipeline import Pipeline\n",
        "\n",
        "full_pipeline = Pipeline([\n",
        "    (\"preprocessing\", preprocessing),\n",
        "    (\"random_forest\", RandomForestRegressor(random_state=42)),\n",
        "])\n",
        "param_grid = [\n",
        "    {'random_forest__n_estimators': [16, 32],\n",
        "     'random_forest__max_features': [4, 6, 8]},\n",
        "    {'random_forest__n_estimators': [64, 128],\n",
        "     'random_forest__max_features': [6, 8, 10]},\n",
        "]\n",
        "grid_search = GridSearchCV(full_pipeline, param_grid, cv=3,\n",
        "                           scoring='neg_root_mean_squared_error')\n",
        "grid_search.fit(X, y)"
      ]
    },
    {
      "cell_type": "markdown",
      "metadata": {
        "id": "8AVveWebKy00"
      },
      "source": [
        "The best hyperparameter combination found:"
      ]
    },
    {
      "cell_type": "code",
      "execution_count": 81,
      "metadata": {
        "dotnet_interactive": {
          "language": "csharp"
        },
        "id": "-2MeKJq-Ky00",
        "vscode": {
          "languageId": "python"
        }
      },
      "outputs": [
        {
          "data": {
            "text/plain": [
              "{'random_forest__max_features': 10, 'random_forest__n_estimators': 128}"
            ]
          },
          "execution_count": 81,
          "metadata": {},
          "output_type": "execute_result"
        }
      ],
      "source": [
        "grid_search.best_params_"
      ]
    },
    {
      "cell_type": "markdown",
      "metadata": {
        "id": "avZfbVhOcBUo"
      },
      "source": [
        "The model with the best score will be available as the best_estimator_ attribute of the grid_search object.\n",
        "\n",
        "Since we are using pipelines, the final model is actually a pipeline which means it applies the preprocessing pipeline steps to its input and then the model prediction step"
      ]
    },
    {
      "cell_type": "code",
      "execution_count": 82,
      "metadata": {
        "dotnet_interactive": {
          "language": "csharp"
        },
        "id": "ZZ-Uz-N5Ky01",
        "vscode": {
          "languageId": "python"
        }
      },
      "outputs": [],
      "source": [
        "final_model = grid_search.best_estimator_"
      ]
    },
    {
      "cell_type": "code",
      "execution_count": 83,
      "metadata": {
        "dotnet_interactive": {
          "language": "csharp"
        },
        "id": "AlEpv0Ztcdrg",
        "vscode": {
          "languageId": "python"
        }
      },
      "outputs": [
        {
          "data": {
            "text/plain": [
              "Pipeline(steps=[('preprocessing',\n",
              "                 ColumnTransformer(transformers=[('num',\n",
              "                                                  Pipeline(steps=[('simpleimputer',\n",
              "                                                                   SimpleImputer(strategy='median')),\n",
              "                                                                  ('minmaxscaler',\n",
              "                                                                   MinMaxScaler())]),\n",
              "                                                  ['area',\n",
              "                                                   'area_to_bathroom_ratio']),\n",
              "                                                 ('cat',\n",
              "                                                  Pipeline(steps=[('simpleimputer',\n",
              "                                                                   SimpleImputer(strategy='most_frequent')),\n",
              "                                                                  ('onehotencoder',\n",
              "                                                                   OneHotEncoder(handle_unknown='ignore'))]),\n",
              "                                                  ['type', 'bedrooms',\n",
              "                                                   'bathrooms', 'level',\n",
              "                                                   'furnished', 'rent', 'city',\n",
              "                                                   'region'])])),\n",
              "                ('random_forest',\n",
              "                 RandomForestRegressor(max_features=10, n_estimators=128,\n",
              "                                       random_state=42))])"
            ]
          },
          "execution_count": 83,
          "metadata": {},
          "output_type": "execute_result"
        }
      ],
      "source": [
        "final_model\n",
        "\n",
        "\n"
      ]
    },
    {
      "cell_type": "markdown",
      "metadata": {
        "id": "qqXx7W6OKy01"
      },
      "source": [
        "Let's look at the score of each hyperparameter combination tested during the grid search:"
      ]
    },
    {
      "cell_type": "code",
      "execution_count": 84,
      "metadata": {
        "dotnet_interactive": {
          "language": "csharp"
        },
        "id": "CXDvtEQbKy01",
        "vscode": {
          "languageId": "python"
        }
      },
      "outputs": [
        {
          "data": {
            "text/html": [
              "<div>\n",
              "<style scoped>\n",
              "    .dataframe tbody tr th:only-of-type {\n",
              "        vertical-align: middle;\n",
              "    }\n",
              "\n",
              "    .dataframe tbody tr th {\n",
              "        vertical-align: top;\n",
              "    }\n",
              "\n",
              "    .dataframe thead th {\n",
              "        text-align: right;\n",
              "    }\n",
              "</style>\n",
              "<table border=\"1\" class=\"dataframe\">\n",
              "  <thead>\n",
              "    <tr style=\"text-align: right;\">\n",
              "      <th></th>\n",
              "      <th>mean_fit_time</th>\n",
              "      <th>std_fit_time</th>\n",
              "      <th>mean_score_time</th>\n",
              "      <th>std_score_time</th>\n",
              "      <th>param_random_forest__max_features</th>\n",
              "      <th>param_random_forest__n_estimators</th>\n",
              "      <th>params</th>\n",
              "      <th>split0_test_score</th>\n",
              "      <th>split1_test_score</th>\n",
              "      <th>split2_test_score</th>\n",
              "      <th>mean_test_score</th>\n",
              "      <th>std_test_score</th>\n",
              "      <th>rank_test_score</th>\n",
              "    </tr>\n",
              "  </thead>\n",
              "  <tbody>\n",
              "    <tr>\n",
              "      <th>11</th>\n",
              "      <td>10.33</td>\n",
              "      <td>0.11</td>\n",
              "      <td>0.15</td>\n",
              "      <td>0.00</td>\n",
              "      <td>10</td>\n",
              "      <td>128</td>\n",
              "      <td>{'random_forest__max_features': 10, 'random_fo...</td>\n",
              "      <td>-1212647.55</td>\n",
              "      <td>-1226717.83</td>\n",
              "      <td>-1326744.44</td>\n",
              "      <td>-1255369.94</td>\n",
              "      <td>50795.23</td>\n",
              "      <td>1</td>\n",
              "    </tr>\n",
              "    <tr>\n",
              "      <th>9</th>\n",
              "      <td>10.19</td>\n",
              "      <td>0.15</td>\n",
              "      <td>0.14</td>\n",
              "      <td>0.00</td>\n",
              "      <td>8</td>\n",
              "      <td>128</td>\n",
              "      <td>{'random_forest__max_features': 8, 'random_for...</td>\n",
              "      <td>-1215374.65</td>\n",
              "      <td>-1228336.38</td>\n",
              "      <td>-1332004.58</td>\n",
              "      <td>-1258571.87</td>\n",
              "      <td>52193.70</td>\n",
              "      <td>2</td>\n",
              "    </tr>\n",
              "    <tr>\n",
              "      <th>10</th>\n",
              "      <td>5.35</td>\n",
              "      <td>0.14</td>\n",
              "      <td>0.08</td>\n",
              "      <td>0.01</td>\n",
              "      <td>10</td>\n",
              "      <td>64</td>\n",
              "      <td>{'random_forest__max_features': 10, 'random_fo...</td>\n",
              "      <td>-1214998.37</td>\n",
              "      <td>-1229155.51</td>\n",
              "      <td>-1331810.79</td>\n",
              "      <td>-1258654.89</td>\n",
              "      <td>52050.91</td>\n",
              "      <td>3</td>\n",
              "    </tr>\n",
              "    <tr>\n",
              "      <th>8</th>\n",
              "      <td>5.10</td>\n",
              "      <td>0.05</td>\n",
              "      <td>0.08</td>\n",
              "      <td>0.00</td>\n",
              "      <td>8</td>\n",
              "      <td>64</td>\n",
              "      <td>{'random_forest__max_features': 8, 'random_for...</td>\n",
              "      <td>-1220191.90</td>\n",
              "      <td>-1231725.74</td>\n",
              "      <td>-1342308.39</td>\n",
              "      <td>-1264742.01</td>\n",
              "      <td>55049.46</td>\n",
              "      <td>4</td>\n",
              "    </tr>\n",
              "    <tr>\n",
              "      <th>7</th>\n",
              "      <td>11.02</td>\n",
              "      <td>0.64</td>\n",
              "      <td>0.18</td>\n",
              "      <td>0.02</td>\n",
              "      <td>6</td>\n",
              "      <td>128</td>\n",
              "      <td>{'random_forest__max_features': 6, 'random_for...</td>\n",
              "      <td>-1220154.19</td>\n",
              "      <td>-1233600.80</td>\n",
              "      <td>-1342736.42</td>\n",
              "      <td>-1265497.13</td>\n",
              "      <td>54891.61</td>\n",
              "      <td>5</td>\n",
              "    </tr>\n",
              "  </tbody>\n",
              "</table>\n",
              "</div>"
            ],
            "text/plain": [
              "    mean_fit_time  std_fit_time  mean_score_time  std_score_time  \\\n",
              "11          10.33          0.11             0.15            0.00   \n",
              "9           10.19          0.15             0.14            0.00   \n",
              "10           5.35          0.14             0.08            0.01   \n",
              "8            5.10          0.05             0.08            0.00   \n",
              "7           11.02          0.64             0.18            0.02   \n",
              "\n",
              "   param_random_forest__max_features param_random_forest__n_estimators  \\\n",
              "11                                10                               128   \n",
              "9                                  8                               128   \n",
              "10                                10                                64   \n",
              "8                                  8                                64   \n",
              "7                                  6                               128   \n",
              "\n",
              "                                               params  split0_test_score  \\\n",
              "11  {'random_forest__max_features': 10, 'random_fo...        -1212647.55   \n",
              "9   {'random_forest__max_features': 8, 'random_for...        -1215374.65   \n",
              "10  {'random_forest__max_features': 10, 'random_fo...        -1214998.37   \n",
              "8   {'random_forest__max_features': 8, 'random_for...        -1220191.90   \n",
              "7   {'random_forest__max_features': 6, 'random_for...        -1220154.19   \n",
              "\n",
              "    split1_test_score  split2_test_score  mean_test_score  std_test_score  \\\n",
              "11        -1226717.83        -1326744.44      -1255369.94        50795.23   \n",
              "9         -1228336.38        -1332004.58      -1258571.87        52193.70   \n",
              "10        -1229155.51        -1331810.79      -1258654.89        52050.91   \n",
              "8         -1231725.74        -1342308.39      -1264742.01        55049.46   \n",
              "7         -1233600.80        -1342736.42      -1265497.13        54891.61   \n",
              "\n",
              "    rank_test_score  \n",
              "11                1  \n",
              "9                 2  \n",
              "10                3  \n",
              "8                 4  \n",
              "7                 5  "
            ]
          },
          "execution_count": 84,
          "metadata": {},
          "output_type": "execute_result"
        }
      ],
      "source": [
        "cv_res = pd.DataFrame(grid_search.cv_results_)\n",
        "cv_res.sort_values(by=\"mean_test_score\", ascending=False, inplace=True)\n",
        "\n",
        "cv_res.head()"
      ]
    },
    {
      "cell_type": "markdown",
      "metadata": {
        "id": "npb4_cldKy04"
      },
      "source": [
        "## Evaluate Your System on the Test Set"
      ]
    },
    {
      "cell_type": "markdown",
      "metadata": {
        "id": "GRpigYjaaBp6"
      },
      "source": [
        "Now we'll load the test set, run our feature engineering function on it, and then pass it to our model's predict function (which does the preprocessing steps before predicting because it's a pipeline object)"
      ]
    },
    {
      "cell_type": "code",
      "execution_count": 94,
      "metadata": {
        "dotnet_interactive": {
          "language": "csharp"
        },
        "id": "EOIcSt0_JTl7",
        "vscode": {
          "languageId": "python"
        }
      },
      "outputs": [],
      "source": [
        "test = pd.read_csv(\"https://drive.google.com/uc?id=1U2IWwN78Td1XQz38_u60pXsU_WgQzCtB\")\n",
        "test = feature_engineer(test)\n",
        "test_predictions = final_model.predict(test)"
      ]
    },
    {
      "cell_type": "markdown",
      "metadata": {
        "id": "pPyz_03rcrjz"
      },
      "source": [
        "We have a sample submission file demonstrating the format which we should submit our predictions. We'll just replace the price column with our predictions here and save the file"
      ]
    },
    {
      "cell_type": "code",
      "execution_count": 109,
      "metadata": {
        "dotnet_interactive": {
          "language": "csharp"
        },
        "id": "9eQn__LZjeLJ",
        "vscode": {
          "languageId": "python"
        }
      },
      "outputs": [
        {
          "data": {
            "text/html": [
              "<div>\n",
              "<style scoped>\n",
              "    .dataframe tbody tr th:only-of-type {\n",
              "        vertical-align: middle;\n",
              "    }\n",
              "\n",
              "    .dataframe tbody tr th {\n",
              "        vertical-align: top;\n",
              "    }\n",
              "\n",
              "    .dataframe thead th {\n",
              "        text-align: right;\n",
              "    }\n",
              "</style>\n",
              "<table border=\"1\" class=\"dataframe\">\n",
              "  <thead>\n",
              "    <tr style=\"text-align: right;\">\n",
              "      <th></th>\n",
              "      <th>id</th>\n",
              "      <th>price</th>\n",
              "    </tr>\n",
              "  </thead>\n",
              "  <tbody>\n",
              "    <tr>\n",
              "      <th>0</th>\n",
              "      <td>15462</td>\n",
              "      <td>1113053.03</td>\n",
              "    </tr>\n",
              "    <tr>\n",
              "      <th>1</th>\n",
              "      <td>11766</td>\n",
              "      <td>870970.05</td>\n",
              "    </tr>\n",
              "    <tr>\n",
              "      <th>2</th>\n",
              "      <td>9160</td>\n",
              "      <td>900465.73</td>\n",
              "    </tr>\n",
              "    <tr>\n",
              "      <th>3</th>\n",
              "      <td>53004</td>\n",
              "      <td>1891596.92</td>\n",
              "    </tr>\n",
              "    <tr>\n",
              "      <th>4</th>\n",
              "      <td>10998</td>\n",
              "      <td>383190.30</td>\n",
              "    </tr>\n",
              "    <tr>\n",
              "      <th>...</th>\n",
              "      <td>...</td>\n",
              "      <td>...</td>\n",
              "    </tr>\n",
              "    <tr>\n",
              "      <th>3678</th>\n",
              "      <td>32006</td>\n",
              "      <td>700037.72</td>\n",
              "    </tr>\n",
              "    <tr>\n",
              "      <th>3679</th>\n",
              "      <td>7234</td>\n",
              "      <td>653654.51</td>\n",
              "    </tr>\n",
              "    <tr>\n",
              "      <th>3680</th>\n",
              "      <td>15366</td>\n",
              "      <td>2098587.99</td>\n",
              "    </tr>\n",
              "    <tr>\n",
              "      <th>3681</th>\n",
              "      <td>31670</td>\n",
              "      <td>3480822.17</td>\n",
              "    </tr>\n",
              "    <tr>\n",
              "      <th>3682</th>\n",
              "      <td>14384</td>\n",
              "      <td>5781895.83</td>\n",
              "    </tr>\n",
              "  </tbody>\n",
              "</table>\n",
              "<p>3683 rows × 2 columns</p>\n",
              "</div>"
            ],
            "text/plain": [
              "         id      price\n",
              "0     15462 1113053.03\n",
              "1     11766  870970.05\n",
              "2      9160  900465.73\n",
              "3     53004 1891596.92\n",
              "4     10998  383190.30\n",
              "...     ...        ...\n",
              "3678  32006  700037.72\n",
              "3679   7234  653654.51\n",
              "3680  15366 2098587.99\n",
              "3681  31670 3480822.17\n",
              "3682  14384 5781895.83\n",
              "\n",
              "[3683 rows x 2 columns]"
            ]
          },
          "execution_count": 109,
          "metadata": {},
          "output_type": "execute_result"
        }
      ],
      "source": [
        "submission = pd.read_csv('https://drive.google.com/uc?id=1RwXmgcY6rh-JPgGHWLRn5lzom8YMIIFC')\n",
        "submission.price = test_predictions\n",
        "\n",
        "submission"
      ]
    },
    {
      "cell_type": "markdown",
      "metadata": {
        "id": "sJ4519ryc8e-"
      },
      "source": [
        "This is the file you should submit to kaggle. You can download it from the menu on the left of the colab website. "
      ]
    },
    {
      "cell_type": "code",
      "execution_count": 110,
      "metadata": {
        "dotnet_interactive": {
          "language": "csharp"
        },
        "id": "x-Qlel71YYM8",
        "vscode": {
          "languageId": "python"
        }
      },
      "outputs": [],
      "source": [
        "sub=submission.to_csv('C:/Users/mosta/Desktop/project/gitCampas/IEEE-tasks/submission.csv', index=False)\n",
        "import csv\n"
      ]
    },
    {
      "cell_type": "markdown",
      "metadata": {
        "id": "SvVg3MvVKy1E"
      },
      "source": [
        "<h1><b>You made it till the end. Awesome. 🔥🔥🔥</b></h1>"
      ]
    },
    {
      "cell_type": "markdown",
      "metadata": {
        "id": "Ff-9n00Kdb5y"
      },
      "source": [
        "You're of course free to continue tinkering with the task after finishing it to try and get a better score (which will be reflected on the Kaggle leaderboard!)\n",
        "\n",
        "You can try playing with different features in the feature engineering step, or importing and trying different models and/or hyperparameters, or maybe different preprocessing steps.\n",
        "\n",
        "The possibilities are endless!\n"
      ]
    }
  ],
  "metadata": {
    "colab": {
      "include_colab_link": true,
      "provenance": []
    },
    "kernelspec": {
      "display_name": "Python 3 (ipykernel)",
      "language": "python",
      "name": "python3"
    },
    "nav_menu": {
      "height": "279px",
      "width": "309px"
    },
    "toc": {
      "nav_menu": {},
      "number_sections": true,
      "sideBar": true,
      "skip_h1_title": false,
      "toc_cell": false,
      "toc_position": {},
      "toc_section_display": "block",
      "toc_window_display": false
    }
  },
  "nbformat": 4,
  "nbformat_minor": 0
}
