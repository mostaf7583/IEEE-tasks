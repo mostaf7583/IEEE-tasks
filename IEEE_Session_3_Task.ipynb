{
  "cells": [
    {
      "cell_type": "markdown",
      "metadata": {
        "colab_type": "text",
        "id": "view-in-github"
      },
      "source": [
        "<a href=\"https://colab.research.google.com/github/mostaf7583/IEEE-tasks/blob/task3/IEEE_Session_3_Task.ipynb\" target=\"_parent\"><img src=\"https://colab.research.google.com/assets/colab-badge.svg\" alt=\"Open In Colab\"/></a>"
      ]
    },
    {
      "cell_type": "markdown",
      "metadata": {
        "id": "NFYD5Slt-FAc"
      },
      "source": [
        "# Session 3 Task <img src=\"https://i.imgur.com/9y2NKWY.png\" align=\"right\" width=80/>\n",
        "\n",
        "This task focuses on:\n",
        "\n",
        "\n",
        "\n",
        "*   End-to-end machine learning on a classification problem\n",
        "*   Training multiclass classification models\n",
        "*   Making sense of confusion matrices and metrics to assess model performances\n",
        "\n",
        "\n"
      ]
    },
    {
      "cell_type": "markdown",
      "metadata": {
        "id": "MnZz-TiLUAzB"
      },
      "source": [
        "Reminder: End-to-end Machien Learning steps are to \n",
        "\n",
        "\n",
        "\n",
        "1.   Download the data\n",
        "2.   Understand and Clean the Data\n",
        "3.   Preprocess and Feature Engineer the Data\n",
        "4.   Train a model using the data\n",
        "5.   Measure the model's performance using cross validation\n",
        "6.   Do hyperparameter tuning on the model and/or try different models\n",
        "7.   Use the final selected model to make predictions on the test set\n",
        "\n"
      ]
    },
    {
      "cell_type": "markdown",
      "metadata": {
        "id": "wRoAceVPVDLs"
      },
      "source": [
        "In this task, we won't be using pipelines!\n",
        "\n",
        "This is for a few reasons:\n",
        "\n",
        "\n",
        "\n",
        "*   There are often a few different ways to accomplish something in data science\n",
        "you don't need to know all of them but you also shouldn't only have one tool in \n",
        "your toolbox \n",
        "*   Pipelines hide some of the underlying complexity of preprocessing and \n",
        "building models, this is great if you understand how everything works and just\n",
        "want to deploy to production, but when you're learning it's often a good idea\n",
        "to tinker with the tools you're using and try to get a better understanding of\n",
        "how they work. \n",
        "\n"
      ]
    },
    {
      "cell_type": "markdown",
      "metadata": {
        "id": "WKNx---Iue6k"
      },
      "source": [
        "<h2> In this task we'll train and select a multiclass classification model to predict whether a car's price is within one of five price categories.<h2>"
      ]
    },
    {
      "cell_type": "markdown",
      "metadata": {
        "id": "uxNciqYTUVaO"
      },
      "source": [
        "# First, let's load the data"
      ]
    },
    {
      "cell_type": "code",
      "execution_count": 22,
      "metadata": {
        "vscode": {
          "languageId": "python"
        }
      },
      "outputs": [
        {
          "name": "stdout",
          "output_type": "stream",
          "text": [
            "Defaulting to user installation because normal site-packages is not writeable\n",
            "Requirement already satisfied: sklearn in /home/halla/.local/lib/python3.10/site-packages (0.0.post1)\n",
            "Note: you may need to restart the kernel to use updated packages.\n"
          ]
        }
      ],
      "source": [
        "pip install sklearn"
      ]
    },
    {
      "cell_type": "code",
      "execution_count": 23,
      "metadata": {
        "id": "uLmCqXyA-rTN",
        "vscode": {
          "languageId": "python"
        }
      },
      "outputs": [
        {
          "name": "stdout",
          "output_type": "stream",
          "text": [
            "Downloading...\n",
            "From: https://drive.google.com/uc?id=1o2-1X1tRMj5lPS5NOVAfE7gkGqIXC35q\n",
            "To: /home/halla/IEEE/IEEE-tasks/Cars_train.csv\n",
            "100%|████████████████████████████████████████| 895k/895k [00:00<00:00, 1.88MB/s]\n",
            "Downloading...\n",
            "From: https://drive.google.com/uc?id=1-aMbeDwChOmgRC2ICAM0X3Nvx8PeuyyC\n",
            "To: /home/halla/IEEE/IEEE-tasks/Cars_test.csv\n",
            "100%|████████████████████████████████████████| 430k/430k [00:00<00:00, 1.63MB/s]\n",
            "Downloading...\n",
            "From: https://drive.google.com/uc?id=1t1HHi_LeAEW5rXkaoTMHYIo2KuJvgLRI\n",
            "To: /home/halla/IEEE/IEEE-tasks/sample_submission.csv\n",
            "100%|███████████████████████████████████████| 36.3k/36.3k [00:00<00:00, 316kB/s]\n"
          ]
        }
      ],
      "source": [
        "!gdown 1o2-1X1tRMj5lPS5NOVAfE7gkGqIXC35q\n",
        "!gdown 1-aMbeDwChOmgRC2ICAM0X3Nvx8PeuyyC\n",
        "!gdown 1t1HHi_LeAEW5rXkaoTMHYIo2KuJvgLRI"
      ]
    },
    {
      "cell_type": "markdown",
      "metadata": {
        "id": "_zbxZ2reuBoU"
      },
      "source": [
        "Note: We'll drop the id column from the test set since the sample submission file has the same order as the test_df"
      ]
    },
    {
      "cell_type": "code",
      "execution_count": 24,
      "metadata": {
        "id": "ZowcoCcBUnDd",
        "vscode": {
          "languageId": "python"
        }
      },
      "outputs": [],
      "source": [
        "import pandas as pd\n",
        "#Helps make printing numbers look better\n",
        "pd.options.display.float_format = '{:.2f}'.format\n",
        "\n",
        "train_df = pd.read_csv(\"Cars_train.csv\")\n",
        "\n",
        "test_df = pd.read_csv(\"Cars_test.csv\")\n",
        "test_df = test_df.drop('id', axis=1)"
      ]
    },
    {
      "cell_type": "markdown",
      "metadata": {
        "id": "03yePzkXU4Uj"
      },
      "source": [
        "# Let's have a quick look at the dataset"
      ]
    },
    {
      "cell_type": "markdown",
      "metadata": {
        "id": "X7jDgpnm36MU"
      },
      "source": [
        "<h1><b>Q1: Use some pandas built-in functions like head, describe, value_counts, etc. to take an initial look at train_df</b></h1>"
      ]
    },
    {
      "cell_type": "code",
      "execution_count": 25,
      "metadata": {
        "id": "7SsheSSMPe5g",
        "vscode": {
          "languageId": "python"
        }
      },
      "outputs": [
        {
          "data": {
            "text/html": [
              "<div>\n",
              "<style scoped>\n",
              "    .dataframe tbody tr th:only-of-type {\n",
              "        vertical-align: middle;\n",
              "    }\n",
              "\n",
              "    .dataframe tbody tr th {\n",
              "        vertical-align: top;\n",
              "    }\n",
              "\n",
              "    .dataframe thead th {\n",
              "        text-align: right;\n",
              "    }\n",
              "</style>\n",
              "<table border=\"1\" class=\"dataframe\">\n",
              "  <thead>\n",
              "    <tr style=\"text-align: right;\">\n",
              "      <th></th>\n",
              "      <th>Brand</th>\n",
              "      <th>Model</th>\n",
              "      <th>Body</th>\n",
              "      <th>Color</th>\n",
              "      <th>Year</th>\n",
              "      <th>Fuel</th>\n",
              "      <th>Kilometers</th>\n",
              "      <th>Engine</th>\n",
              "      <th>Transmission</th>\n",
              "      <th>Gov</th>\n",
              "    </tr>\n",
              "  </thead>\n",
              "  <tbody>\n",
              "    <tr>\n",
              "      <th>0</th>\n",
              "      <td>Chevrolet</td>\n",
              "      <td>Aveo</td>\n",
              "      <td>Sedan</td>\n",
              "      <td>Black</td>\n",
              "      <td>2016</td>\n",
              "      <td>Benzine</td>\n",
              "      <td>140000 to 159999</td>\n",
              "      <td>1400 - 1500 CC</td>\n",
              "      <td>Manual</td>\n",
              "      <td>Luxor</td>\n",
              "    </tr>\n",
              "    <tr>\n",
              "      <th>1</th>\n",
              "      <td>Fiat</td>\n",
              "      <td>128</td>\n",
              "      <td>Sedan</td>\n",
              "      <td>White</td>\n",
              "      <td>1999</td>\n",
              "      <td>Benzine</td>\n",
              "      <td>180000 to 199999</td>\n",
              "      <td>1000 - 1300 CC</td>\n",
              "      <td>Manual</td>\n",
              "      <td>Giza</td>\n",
              "    </tr>\n",
              "    <tr>\n",
              "      <th>2</th>\n",
              "      <td>Chevrolet</td>\n",
              "      <td>Lanos</td>\n",
              "      <td>Sedan</td>\n",
              "      <td>Burgundy</td>\n",
              "      <td>2015</td>\n",
              "      <td>Benzine</td>\n",
              "      <td>180000 to 199999</td>\n",
              "      <td>1400 - 1500 CC</td>\n",
              "      <td>Manual</td>\n",
              "      <td>Monufia</td>\n",
              "    </tr>\n",
              "    <tr>\n",
              "      <th>3</th>\n",
              "      <td>Fiat</td>\n",
              "      <td>Uno</td>\n",
              "      <td>Hatchback</td>\n",
              "      <td>Blue- Navy Blue</td>\n",
              "      <td>1997</td>\n",
              "      <td>Benzine</td>\n",
              "      <td>10000 to 19999</td>\n",
              "      <td>1000 - 1300 CC</td>\n",
              "      <td>Manual</td>\n",
              "      <td>Cairo</td>\n",
              "    </tr>\n",
              "    <tr>\n",
              "      <th>4</th>\n",
              "      <td>Chevrolet</td>\n",
              "      <td>Aveo</td>\n",
              "      <td>Sedan</td>\n",
              "      <td>Black</td>\n",
              "      <td>2016</td>\n",
              "      <td>Benzine</td>\n",
              "      <td>140000 to 159999</td>\n",
              "      <td>1400 - 1500 CC</td>\n",
              "      <td>Automatic</td>\n",
              "      <td>Giza</td>\n",
              "    </tr>\n",
              "  </tbody>\n",
              "</table>\n",
              "</div>"
            ],
            "text/plain": [
              "       Brand  Model       Body            Color  Year     Fuel  \\\n",
              "0  Chevrolet   Aveo      Sedan            Black  2016  Benzine   \n",
              "1       Fiat    128      Sedan            White  1999  Benzine   \n",
              "2  Chevrolet  Lanos      Sedan         Burgundy  2015  Benzine   \n",
              "3       Fiat    Uno  Hatchback  Blue- Navy Blue  1997  Benzine   \n",
              "4  Chevrolet   Aveo      Sedan            Black  2016  Benzine   \n",
              "\n",
              "         Kilometers          Engine Transmission      Gov  \n",
              "0  140000 to 159999  1400 - 1500 CC       Manual    Luxor  \n",
              "1  180000 to 199999  1000 - 1300 CC       Manual     Giza  \n",
              "2  180000 to 199999  1400 - 1500 CC       Manual  Monufia  \n",
              "3    10000 to 19999  1000 - 1300 CC       Manual    Cairo  \n",
              "4  140000 to 159999  1400 - 1500 CC    Automatic     Giza  "
            ]
          },
          "execution_count": 25,
          "metadata": {},
          "output_type": "execute_result"
        }
      ],
      "source": [
        "test_df.head()"
      ]
    },
    {
      "cell_type": "markdown",
      "metadata": {
        "id": "ZP4qcmbLVMiI"
      },
      "source": [
        "As we see, we have price_category ranging from 0 to 4, each category meaning 0 to 100K, 100K to 200K, etc.\n",
        "\n",
        "The Price column is not needed since we're framing this as a classification problem. \n",
        "I only left it in case you're curious how much each car actually cost 💰 (Be careful since the dataset was actually collected about 5 months ago so the majority of the prices you see in the dateset are a bit lower (okay, maybe much lower) than the current price\n",
        "\n",
        "<h2><b>Don't forget to run the next cell to drop the Price column before training</b><h2>\n",
        "\n"
      ]
    },
    {
      "cell_type": "code",
      "execution_count": 26,
      "metadata": {
        "id": "aKlPlJLqisij",
        "vscode": {
          "languageId": "python"
        }
      },
      "outputs": [],
      "source": [
        "train_df = train_df.drop('Price', axis=1)"
      ]
    },
    {
      "cell_type": "markdown",
      "metadata": {
        "id": "H0HZPbV_YGBf"
      },
      "source": [
        "<h1><b>Q2: Use any visualization library you like to visualize some of the datasets attributes. Hint: One idea is to try plotting bar plots of categorical variables against the target variable like in the next cell. Other solutions are also welcome. </b></h1>"
      ]
    },
    {
      "cell_type": "code",
      "execution_count": 27,
      "metadata": {
        "id": "p4ak_qvD_vEo",
        "vscode": {
          "languageId": "python"
        }
      },
      "outputs": [],
      "source": [
        "# visualize some of the datasets attributes\n",
        "import matplotlib.pyplot as plt\n",
        "import seaborn as sns\n",
        "  \n"
      ]
    },
    {
      "cell_type": "code",
      "execution_count": 28,
      "metadata": {
        "id": "VegZMlktW3Qz",
        "vscode": {
          "languageId": "python"
        }
      },
      "outputs": [
        {
          "data": {
            "text/plain": [
              "<AxesSubplot: xlabel='price_category'>"
            ]
          },
          "execution_count": 28,
          "metadata": {},
          "output_type": "execute_result"
        },
        {
          "data": {
            "image/png": "[encoded data removed]",
            "text/plain": [
              "<Figure size 1000x600 with 1 Axes>"
            ]
          },
          "metadata": {},
          "output_type": "display_data"
        }
      ],
      "source": [
        "train_df.groupby('price_category').Brand.value_counts().unstack().plot(kind='bar', figsize=(10,6))"
      ]
    },
    {
      "cell_type": "markdown",
      "metadata": {
        "id": "BnbD6DHpZPwg"
      },
      "source": [
        "Try looking for trends and trying to ask and answer questions about the dataset,\n",
        "like are cars more likely to be more expensive the more recent they are?\n",
        "The next cell tries to answer that question.\n",
        "\n",
        "But always be careful not to jump into conclusions too early!"
      ]
    },
    {
      "cell_type": "code",
      "execution_count": 29,
      "metadata": {
        "id": "8EOpUeZpZBoh",
        "vscode": {
          "languageId": "python"
        }
      },
      "outputs": [
        {
          "data": {
            "text/plain": [
              "array([<AxesSubplot: ylabel='2011'>, <AxesSubplot: ylabel='2012'>,\n",
              "       <AxesSubplot: ylabel='2013'>, <AxesSubplot: ylabel='2014'>,\n",
              "       <AxesSubplot: ylabel='2015'>, <AxesSubplot: ylabel='2016'>,\n",
              "       <AxesSubplot: ylabel='2017'>, <AxesSubplot: ylabel='2018'>,\n",
              "       <AxesSubplot: ylabel='2019'>, <AxesSubplot: ylabel='2020'>,\n",
              "       <AxesSubplot: ylabel='2021'>, <AxesSubplot: ylabel='2022'>],\n",
              "      dtype=object)"
            ]
          },
          "execution_count": 29,
          "metadata": {},
          "output_type": "execute_result"
        },
        {
          "data": {
            "image/png": "[encoded data removed]",
            "text/plain": [
              "<Figure size 5000x5000 with 12 Axes>"
            ]
          },
          "metadata": {},
          "output_type": "display_data"
        }
      ],
      "source": [
        "train_df[train_df.Year > 2010].groupby('price_category').Year.value_counts().unstack().plot(kind='pie', figsize=(50,50), subplots=True)"
      ]
    },
    {
      "cell_type": "markdown",
      "metadata": {
        "id": "MFWOXWB5dtkP"
      },
      "source": [
        "# Prepare the Data for Machine Learning Algorithms"
      ]
    },
    {
      "cell_type": "markdown",
      "metadata": {
        "id": "L8ch4s7PfAI2"
      },
      "source": [
        "<h1><b>Q3.1: Show the dtypes of each column in the dataset.</b></h1>"
      ]
    },
    {
      "cell_type": "code",
      "execution_count": 30,
      "metadata": {
        "id": "Jyi5feURe7oP",
        "vscode": {
          "languageId": "python"
        }
      },
      "outputs": [
        {
          "data": {
            "text/plain": [
              "Brand             object\n",
              "Model             object\n",
              "Body              object\n",
              "Color             object\n",
              "Year               int64\n",
              "Fuel              object\n",
              "Kilometers        object\n",
              "Engine            object\n",
              "Transmission      object\n",
              "Gov               object\n",
              "price_category     int64\n",
              "dtype: object"
            ]
          },
          "execution_count": 30,
          "metadata": {},
          "output_type": "execute_result"
        }
      ],
      "source": [
        "# show data types of each column\n",
        "train_df.dtypes\n"
      ]
    },
    {
      "cell_type": "markdown",
      "metadata": {
        "id": "uMNYG0XKdv1W"
      },
      "source": [
        "<h1><b>Q3.2: Use the 'select_dtypes' method in pandas to select columns which have the dtype 'object', assign that to a variable called cat_columns</b></h1>"
      ]
    },
    {
      "cell_type": "markdown",
      "metadata": {
        "id": "t4e5pep-4TRy"
      },
      "source": [
        "Note: For questions requiring you to complete pieces of code, some comments will be explanatory and others will require you to write code.\n",
        "\n",
        "Comments that are part of a question are prefixed with TODO: to make it easier to find."
      ]
    },
    {
      "cell_type": "code",
      "execution_count": 31,
      "metadata": {
        "id": "xLOdagEzeUFN",
        "vscode": {
          "languageId": "python"
        }
      },
      "outputs": [],
      "source": [
        "cat_columns = ['Brand', 'Model', 'Body', 'Color', 'Fuel', 'Kilometers', 'Engine','Transmission', 'Gov']\n",
        "#We'll use num_columns as provided here since it's not worth it to select_dtypes for it\n",
        "num_columns = ['Year'] \n",
        "\n",
        "\n",
        "#TODO: Now use select_dtypes here to get the same list as the one above\n",
        "cat_columns = train_df.select_dtypes(include=['object']).columns"
      ]
    },
    {
      "cell_type": "markdown",
      "metadata": {
        "id": "hMAqiU7cf5fw"
      },
      "source": [
        "The following cell demonstrates how to:\n",
        "\n",
        "\n",
        "*   Transform categorical variable to one hot encoded variables\n",
        "*   Create a pandas dataframe from the transformed array\n",
        "\n",
        "\n",
        "But what if we want to join the created dataframe (which only contains the one hot representation of categorical variables) to the original dataframe?\n",
        "\n",
        "The next two questions illustrate this.\n",
        "\n",
        "First: Run the next cell\n",
        "\n",
        "\n",
        "\n",
        "\n",
        "\n"
      ]
    },
    {
      "cell_type": "code",
      "execution_count": 32,
      "metadata": {
        "id": "MOVljZkwgu1_",
        "vscode": {
          "languageId": "python"
        }
      },
      "outputs": [
        {
          "data": {
            "text/html": [
              "<div>\n",
              "<style scoped>\n",
              "    .dataframe tbody tr th:only-of-type {\n",
              "        vertical-align: middle;\n",
              "    }\n",
              "\n",
              "    .dataframe tbody tr th {\n",
              "        vertical-align: top;\n",
              "    }\n",
              "\n",
              "    .dataframe thead th {\n",
              "        text-align: right;\n",
              "    }\n",
              "</style>\n",
              "<table border=\"1\" class=\"dataframe\">\n",
              "  <thead>\n",
              "    <tr style=\"text-align: right;\">\n",
              "      <th></th>\n",
              "      <th>Brand_Chevrolet</th>\n",
              "      <th>Brand_Fiat</th>\n",
              "      <th>Brand_Hyundai</th>\n",
              "      <th>Model_128</th>\n",
              "      <th>Model_131</th>\n",
              "      <th>Model_Accent</th>\n",
              "      <th>Model_Avante</th>\n",
              "      <th>Model_Aveo</th>\n",
              "      <th>Model_Cruze</th>\n",
              "      <th>Model_Elantra</th>\n",
              "      <th>...</th>\n",
              "      <th>Gov_Monufia</th>\n",
              "      <th>Gov_New Valley</th>\n",
              "      <th>Gov_Port Said</th>\n",
              "      <th>Gov_Qalyubia</th>\n",
              "      <th>Gov_Qena</th>\n",
              "      <th>Gov_Red Sea</th>\n",
              "      <th>Gov_Sharqia</th>\n",
              "      <th>Gov_Sohag</th>\n",
              "      <th>Gov_South Sinai</th>\n",
              "      <th>Gov_Suez</th>\n",
              "    </tr>\n",
              "  </thead>\n",
              "  <tbody>\n",
              "    <tr>\n",
              "      <th>0</th>\n",
              "      <td>1.00</td>\n",
              "      <td>0.00</td>\n",
              "      <td>0.00</td>\n",
              "      <td>0.00</td>\n",
              "      <td>0.00</td>\n",
              "      <td>0.00</td>\n",
              "      <td>0.00</td>\n",
              "      <td>1.00</td>\n",
              "      <td>0.00</td>\n",
              "      <td>0.00</td>\n",
              "      <td>...</td>\n",
              "      <td>0.00</td>\n",
              "      <td>0.00</td>\n",
              "      <td>0.00</td>\n",
              "      <td>0.00</td>\n",
              "      <td>0.00</td>\n",
              "      <td>0.00</td>\n",
              "      <td>0.00</td>\n",
              "      <td>0.00</td>\n",
              "      <td>0.00</td>\n",
              "      <td>0.00</td>\n",
              "    </tr>\n",
              "    <tr>\n",
              "      <th>1</th>\n",
              "      <td>0.00</td>\n",
              "      <td>0.00</td>\n",
              "      <td>1.00</td>\n",
              "      <td>0.00</td>\n",
              "      <td>0.00</td>\n",
              "      <td>1.00</td>\n",
              "      <td>0.00</td>\n",
              "      <td>0.00</td>\n",
              "      <td>0.00</td>\n",
              "      <td>0.00</td>\n",
              "      <td>...</td>\n",
              "      <td>0.00</td>\n",
              "      <td>0.00</td>\n",
              "      <td>0.00</td>\n",
              "      <td>0.00</td>\n",
              "      <td>1.00</td>\n",
              "      <td>0.00</td>\n",
              "      <td>0.00</td>\n",
              "      <td>0.00</td>\n",
              "      <td>0.00</td>\n",
              "      <td>0.00</td>\n",
              "    </tr>\n",
              "    <tr>\n",
              "      <th>2</th>\n",
              "      <td>0.00</td>\n",
              "      <td>0.00</td>\n",
              "      <td>1.00</td>\n",
              "      <td>0.00</td>\n",
              "      <td>0.00</td>\n",
              "      <td>0.00</td>\n",
              "      <td>0.00</td>\n",
              "      <td>0.00</td>\n",
              "      <td>0.00</td>\n",
              "      <td>0.00</td>\n",
              "      <td>...</td>\n",
              "      <td>0.00</td>\n",
              "      <td>0.00</td>\n",
              "      <td>0.00</td>\n",
              "      <td>0.00</td>\n",
              "      <td>0.00</td>\n",
              "      <td>0.00</td>\n",
              "      <td>0.00</td>\n",
              "      <td>0.00</td>\n",
              "      <td>0.00</td>\n",
              "      <td>0.00</td>\n",
              "    </tr>\n",
              "    <tr>\n",
              "      <th>3</th>\n",
              "      <td>0.00</td>\n",
              "      <td>1.00</td>\n",
              "      <td>0.00</td>\n",
              "      <td>0.00</td>\n",
              "      <td>0.00</td>\n",
              "      <td>0.00</td>\n",
              "      <td>0.00</td>\n",
              "      <td>0.00</td>\n",
              "      <td>0.00</td>\n",
              "      <td>0.00</td>\n",
              "      <td>...</td>\n",
              "      <td>0.00</td>\n",
              "      <td>0.00</td>\n",
              "      <td>0.00</td>\n",
              "      <td>0.00</td>\n",
              "      <td>0.00</td>\n",
              "      <td>0.00</td>\n",
              "      <td>0.00</td>\n",
              "      <td>0.00</td>\n",
              "      <td>0.00</td>\n",
              "      <td>0.00</td>\n",
              "    </tr>\n",
              "    <tr>\n",
              "      <th>4</th>\n",
              "      <td>1.00</td>\n",
              "      <td>0.00</td>\n",
              "      <td>0.00</td>\n",
              "      <td>0.00</td>\n",
              "      <td>0.00</td>\n",
              "      <td>0.00</td>\n",
              "      <td>0.00</td>\n",
              "      <td>0.00</td>\n",
              "      <td>1.00</td>\n",
              "      <td>0.00</td>\n",
              "      <td>...</td>\n",
              "      <td>0.00</td>\n",
              "      <td>0.00</td>\n",
              "      <td>0.00</td>\n",
              "      <td>0.00</td>\n",
              "      <td>0.00</td>\n",
              "      <td>0.00</td>\n",
              "      <td>0.00</td>\n",
              "      <td>0.00</td>\n",
              "      <td>0.00</td>\n",
              "      <td>0.00</td>\n",
              "    </tr>\n",
              "    <tr>\n",
              "      <th>...</th>\n",
              "      <td>...</td>\n",
              "      <td>...</td>\n",
              "      <td>...</td>\n",
              "      <td>...</td>\n",
              "      <td>...</td>\n",
              "      <td>...</td>\n",
              "      <td>...</td>\n",
              "      <td>...</td>\n",
              "      <td>...</td>\n",
              "      <td>...</td>\n",
              "      <td>...</td>\n",
              "      <td>...</td>\n",
              "      <td>...</td>\n",
              "      <td>...</td>\n",
              "      <td>...</td>\n",
              "      <td>...</td>\n",
              "      <td>...</td>\n",
              "      <td>...</td>\n",
              "      <td>...</td>\n",
              "      <td>...</td>\n",
              "      <td>...</td>\n",
              "    </tr>\n",
              "    <tr>\n",
              "      <th>9871</th>\n",
              "      <td>1.00</td>\n",
              "      <td>0.00</td>\n",
              "      <td>0.00</td>\n",
              "      <td>0.00</td>\n",
              "      <td>0.00</td>\n",
              "      <td>0.00</td>\n",
              "      <td>0.00</td>\n",
              "      <td>0.00</td>\n",
              "      <td>0.00</td>\n",
              "      <td>0.00</td>\n",
              "      <td>...</td>\n",
              "      <td>0.00</td>\n",
              "      <td>0.00</td>\n",
              "      <td>0.00</td>\n",
              "      <td>0.00</td>\n",
              "      <td>0.00</td>\n",
              "      <td>0.00</td>\n",
              "      <td>0.00</td>\n",
              "      <td>0.00</td>\n",
              "      <td>0.00</td>\n",
              "      <td>0.00</td>\n",
              "    </tr>\n",
              "    <tr>\n",
              "      <th>9872</th>\n",
              "      <td>0.00</td>\n",
              "      <td>0.00</td>\n",
              "      <td>1.00</td>\n",
              "      <td>0.00</td>\n",
              "      <td>0.00</td>\n",
              "      <td>0.00</td>\n",
              "      <td>1.00</td>\n",
              "      <td>0.00</td>\n",
              "      <td>0.00</td>\n",
              "      <td>0.00</td>\n",
              "      <td>...</td>\n",
              "      <td>0.00</td>\n",
              "      <td>0.00</td>\n",
              "      <td>0.00</td>\n",
              "      <td>0.00</td>\n",
              "      <td>0.00</td>\n",
              "      <td>0.00</td>\n",
              "      <td>0.00</td>\n",
              "      <td>0.00</td>\n",
              "      <td>0.00</td>\n",
              "      <td>1.00</td>\n",
              "    </tr>\n",
              "    <tr>\n",
              "      <th>9873</th>\n",
              "      <td>1.00</td>\n",
              "      <td>0.00</td>\n",
              "      <td>0.00</td>\n",
              "      <td>0.00</td>\n",
              "      <td>0.00</td>\n",
              "      <td>0.00</td>\n",
              "      <td>0.00</td>\n",
              "      <td>1.00</td>\n",
              "      <td>0.00</td>\n",
              "      <td>0.00</td>\n",
              "      <td>...</td>\n",
              "      <td>1.00</td>\n",
              "      <td>0.00</td>\n",
              "      <td>0.00</td>\n",
              "      <td>0.00</td>\n",
              "      <td>0.00</td>\n",
              "      <td>0.00</td>\n",
              "      <td>0.00</td>\n",
              "      <td>0.00</td>\n",
              "      <td>0.00</td>\n",
              "      <td>0.00</td>\n",
              "    </tr>\n",
              "    <tr>\n",
              "      <th>9874</th>\n",
              "      <td>1.00</td>\n",
              "      <td>0.00</td>\n",
              "      <td>0.00</td>\n",
              "      <td>0.00</td>\n",
              "      <td>0.00</td>\n",
              "      <td>0.00</td>\n",
              "      <td>0.00</td>\n",
              "      <td>0.00</td>\n",
              "      <td>0.00</td>\n",
              "      <td>0.00</td>\n",
              "      <td>...</td>\n",
              "      <td>0.00</td>\n",
              "      <td>0.00</td>\n",
              "      <td>0.00</td>\n",
              "      <td>0.00</td>\n",
              "      <td>0.00</td>\n",
              "      <td>0.00</td>\n",
              "      <td>0.00</td>\n",
              "      <td>0.00</td>\n",
              "      <td>0.00</td>\n",
              "      <td>0.00</td>\n",
              "    </tr>\n",
              "    <tr>\n",
              "      <th>9875</th>\n",
              "      <td>0.00</td>\n",
              "      <td>1.00</td>\n",
              "      <td>0.00</td>\n",
              "      <td>0.00</td>\n",
              "      <td>1.00</td>\n",
              "      <td>0.00</td>\n",
              "      <td>0.00</td>\n",
              "      <td>0.00</td>\n",
              "      <td>0.00</td>\n",
              "      <td>0.00</td>\n",
              "      <td>...</td>\n",
              "      <td>0.00</td>\n",
              "      <td>0.00</td>\n",
              "      <td>0.00</td>\n",
              "      <td>0.00</td>\n",
              "      <td>0.00</td>\n",
              "      <td>0.00</td>\n",
              "      <td>0.00</td>\n",
              "      <td>0.00</td>\n",
              "      <td>0.00</td>\n",
              "      <td>0.00</td>\n",
              "    </tr>\n",
              "  </tbody>\n",
              "</table>\n",
              "<p>9876 rows × 87 columns</p>\n",
              "</div>"
            ],
            "text/plain": [
              "      Brand_Chevrolet  Brand_Fiat  Brand_Hyundai  Model_128  Model_131  \\\n",
              "0                1.00        0.00           0.00       0.00       0.00   \n",
              "1                0.00        0.00           1.00       0.00       0.00   \n",
              "2                0.00        0.00           1.00       0.00       0.00   \n",
              "3                0.00        1.00           0.00       0.00       0.00   \n",
              "4                1.00        0.00           0.00       0.00       0.00   \n",
              "...               ...         ...            ...        ...        ...   \n",
              "9871             1.00        0.00           0.00       0.00       0.00   \n",
              "9872             0.00        0.00           1.00       0.00       0.00   \n",
              "9873             1.00        0.00           0.00       0.00       0.00   \n",
              "9874             1.00        0.00           0.00       0.00       0.00   \n",
              "9875             0.00        1.00           0.00       0.00       1.00   \n",
              "\n",
              "      Model_Accent  Model_Avante  Model_Aveo  Model_Cruze  Model_Elantra  ...  \\\n",
              "0             0.00          0.00        1.00         0.00           0.00  ...   \n",
              "1             1.00          0.00        0.00         0.00           0.00  ...   \n",
              "2             0.00          0.00        0.00         0.00           0.00  ...   \n",
              "3             0.00          0.00        0.00         0.00           0.00  ...   \n",
              "4             0.00          0.00        0.00         1.00           0.00  ...   \n",
              "...            ...           ...         ...          ...            ...  ...   \n",
              "9871          0.00          0.00        0.00         0.00           0.00  ...   \n",
              "9872          0.00          1.00        0.00         0.00           0.00  ...   \n",
              "9873          0.00          0.00        1.00         0.00           0.00  ...   \n",
              "9874          0.00          0.00        0.00         0.00           0.00  ...   \n",
              "9875          0.00          0.00        0.00         0.00           0.00  ...   \n",
              "\n",
              "      Gov_Monufia  Gov_New Valley  Gov_Port Said  Gov_Qalyubia  Gov_Qena  \\\n",
              "0            0.00            0.00           0.00          0.00      0.00   \n",
              "1            0.00            0.00           0.00          0.00      1.00   \n",
              "2            0.00            0.00           0.00          0.00      0.00   \n",
              "3            0.00            0.00           0.00          0.00      0.00   \n",
              "4            0.00            0.00           0.00          0.00      0.00   \n",
              "...           ...             ...            ...           ...       ...   \n",
              "9871         0.00            0.00           0.00          0.00      0.00   \n",
              "9872         0.00            0.00           0.00          0.00      0.00   \n",
              "9873         1.00            0.00           0.00          0.00      0.00   \n",
              "9874         0.00            0.00           0.00          0.00      0.00   \n",
              "9875         0.00            0.00           0.00          0.00      0.00   \n",
              "\n",
              "      Gov_Red Sea  Gov_Sharqia  Gov_Sohag  Gov_South Sinai  Gov_Suez  \n",
              "0            0.00         0.00       0.00             0.00      0.00  \n",
              "1            0.00         0.00       0.00             0.00      0.00  \n",
              "2            0.00         0.00       0.00             0.00      0.00  \n",
              "3            0.00         0.00       0.00             0.00      0.00  \n",
              "4            0.00         0.00       0.00             0.00      0.00  \n",
              "...           ...          ...        ...              ...       ...  \n",
              "9871         0.00         0.00       0.00             0.00      0.00  \n",
              "9872         0.00         0.00       0.00             0.00      1.00  \n",
              "9873         0.00         0.00       0.00             0.00      0.00  \n",
              "9874         0.00         0.00       0.00             0.00      0.00  \n",
              "9875         0.00         0.00       0.00             0.00      0.00  \n",
              "\n",
              "[9876 rows x 87 columns]"
            ]
          },
          "execution_count": 32,
          "metadata": {},
          "output_type": "execute_result"
        }
      ],
      "source": [
        "from sklearn.preprocessing import OneHotEncoder\n",
        "\n",
        "enc = OneHotEncoder(handle_unknown='ignore')\n",
        "\n",
        "enc.fit(train_df[cat_columns])\n",
        "\n",
        "train_cat_one_hot = enc.transform(train_df[cat_columns])\n",
        "\n",
        "train_cat_one_hot_df = pd.DataFrame(train_cat_one_hot.toarray(), \n",
        "                                    columns=enc.get_feature_names_out(),\n",
        "                                    index=train_df.index)\n",
        "\n",
        "train_cat_one_hot_df"
      ]
    },
    {
      "cell_type": "markdown",
      "metadata": {
        "id": "H-WpSP5YgJiU"
      },
      "source": [
        "<h1><b>Q3.3: Now use the function `pd.concat` to concatenate `train_df` and`train_cat_one_hot_df`. Pay special attention to the axis argument of pd.`concat`  </b></h1>"
      ]
    },
    {
      "cell_type": "code",
      "execution_count": 33,
      "metadata": {
        "id": "xdzLcHoiguAD",
        "vscode": {
          "languageId": "python"
        }
      },
      "outputs": [
        {
          "data": {
            "text/html": [
              "<div>\n",
              "<style scoped>\n",
              "    .dataframe tbody tr th:only-of-type {\n",
              "        vertical-align: middle;\n",
              "    }\n",
              "\n",
              "    .dataframe tbody tr th {\n",
              "        vertical-align: top;\n",
              "    }\n",
              "\n",
              "    .dataframe thead th {\n",
              "        text-align: right;\n",
              "    }\n",
              "</style>\n",
              "<table border=\"1\" class=\"dataframe\">\n",
              "  <thead>\n",
              "    <tr style=\"text-align: right;\">\n",
              "      <th></th>\n",
              "      <th>Brand</th>\n",
              "      <th>Model</th>\n",
              "      <th>Body</th>\n",
              "      <th>Color</th>\n",
              "      <th>Year</th>\n",
              "      <th>Fuel</th>\n",
              "      <th>Kilometers</th>\n",
              "      <th>Engine</th>\n",
              "      <th>Transmission</th>\n",
              "      <th>Gov</th>\n",
              "      <th>...</th>\n",
              "      <th>Gov_Monufia</th>\n",
              "      <th>Gov_New Valley</th>\n",
              "      <th>Gov_Port Said</th>\n",
              "      <th>Gov_Qalyubia</th>\n",
              "      <th>Gov_Qena</th>\n",
              "      <th>Gov_Red Sea</th>\n",
              "      <th>Gov_Sharqia</th>\n",
              "      <th>Gov_Sohag</th>\n",
              "      <th>Gov_South Sinai</th>\n",
              "      <th>Gov_Suez</th>\n",
              "    </tr>\n",
              "  </thead>\n",
              "  <tbody>\n",
              "    <tr>\n",
              "      <th>0</th>\n",
              "      <td>Chevrolet</td>\n",
              "      <td>Aveo</td>\n",
              "      <td>Sedan</td>\n",
              "      <td>Gray</td>\n",
              "      <td>2018</td>\n",
              "      <td>Benzine</td>\n",
              "      <td>100000 to 119999</td>\n",
              "      <td>1400 - 1500 CC</td>\n",
              "      <td>Automatic</td>\n",
              "      <td>Alexandria</td>\n",
              "      <td>...</td>\n",
              "      <td>0.00</td>\n",
              "      <td>0.00</td>\n",
              "      <td>0.00</td>\n",
              "      <td>0.00</td>\n",
              "      <td>0.00</td>\n",
              "      <td>0.00</td>\n",
              "      <td>0.00</td>\n",
              "      <td>0.00</td>\n",
              "      <td>0.00</td>\n",
              "      <td>0.00</td>\n",
              "    </tr>\n",
              "    <tr>\n",
              "      <th>1</th>\n",
              "      <td>Hyundai</td>\n",
              "      <td>Accent</td>\n",
              "      <td>Sedan</td>\n",
              "      <td>Silver</td>\n",
              "      <td>2008</td>\n",
              "      <td>Benzine</td>\n",
              "      <td>180000 to 199999</td>\n",
              "      <td>1000 - 1300 CC</td>\n",
              "      <td>Manual</td>\n",
              "      <td>Qena</td>\n",
              "      <td>...</td>\n",
              "      <td>0.00</td>\n",
              "      <td>0.00</td>\n",
              "      <td>0.00</td>\n",
              "      <td>0.00</td>\n",
              "      <td>1.00</td>\n",
              "      <td>0.00</td>\n",
              "      <td>0.00</td>\n",
              "      <td>0.00</td>\n",
              "      <td>0.00</td>\n",
              "      <td>0.00</td>\n",
              "    </tr>\n",
              "    <tr>\n",
              "      <th>2</th>\n",
              "      <td>Hyundai</td>\n",
              "      <td>Matrix</td>\n",
              "      <td>Hatchback</td>\n",
              "      <td>Other Color</td>\n",
              "      <td>2001</td>\n",
              "      <td>Benzine</td>\n",
              "      <td>180000 to 199999</td>\n",
              "      <td>1600 CC</td>\n",
              "      <td>Automatic</td>\n",
              "      <td>Alexandria</td>\n",
              "      <td>...</td>\n",
              "      <td>0.00</td>\n",
              "      <td>0.00</td>\n",
              "      <td>0.00</td>\n",
              "      <td>0.00</td>\n",
              "      <td>0.00</td>\n",
              "      <td>0.00</td>\n",
              "      <td>0.00</td>\n",
              "      <td>0.00</td>\n",
              "      <td>0.00</td>\n",
              "      <td>0.00</td>\n",
              "    </tr>\n",
              "    <tr>\n",
              "      <th>3</th>\n",
              "      <td>Fiat</td>\n",
              "      <td>Punto</td>\n",
              "      <td>Hatchback</td>\n",
              "      <td>White</td>\n",
              "      <td>2006</td>\n",
              "      <td>Benzine</td>\n",
              "      <td>140000 to 159999</td>\n",
              "      <td>1000 - 1300 CC</td>\n",
              "      <td>Manual</td>\n",
              "      <td>Cairo</td>\n",
              "      <td>...</td>\n",
              "      <td>0.00</td>\n",
              "      <td>0.00</td>\n",
              "      <td>0.00</td>\n",
              "      <td>0.00</td>\n",
              "      <td>0.00</td>\n",
              "      <td>0.00</td>\n",
              "      <td>0.00</td>\n",
              "      <td>0.00</td>\n",
              "      <td>0.00</td>\n",
              "      <td>0.00</td>\n",
              "    </tr>\n",
              "    <tr>\n",
              "      <th>4</th>\n",
              "      <td>Chevrolet</td>\n",
              "      <td>Cruze</td>\n",
              "      <td>Sedan</td>\n",
              "      <td>Gray</td>\n",
              "      <td>2016</td>\n",
              "      <td>Benzine</td>\n",
              "      <td>140000 to 159999</td>\n",
              "      <td>1600 CC</td>\n",
              "      <td>Automatic</td>\n",
              "      <td>Cairo</td>\n",
              "      <td>...</td>\n",
              "      <td>0.00</td>\n",
              "      <td>0.00</td>\n",
              "      <td>0.00</td>\n",
              "      <td>0.00</td>\n",
              "      <td>0.00</td>\n",
              "      <td>0.00</td>\n",
              "      <td>0.00</td>\n",
              "      <td>0.00</td>\n",
              "      <td>0.00</td>\n",
              "      <td>0.00</td>\n",
              "    </tr>\n",
              "    <tr>\n",
              "      <th>...</th>\n",
              "      <td>...</td>\n",
              "      <td>...</td>\n",
              "      <td>...</td>\n",
              "      <td>...</td>\n",
              "      <td>...</td>\n",
              "      <td>...</td>\n",
              "      <td>...</td>\n",
              "      <td>...</td>\n",
              "      <td>...</td>\n",
              "      <td>...</td>\n",
              "      <td>...</td>\n",
              "      <td>...</td>\n",
              "      <td>...</td>\n",
              "      <td>...</td>\n",
              "      <td>...</td>\n",
              "      <td>...</td>\n",
              "      <td>...</td>\n",
              "      <td>...</td>\n",
              "      <td>...</td>\n",
              "      <td>...</td>\n",
              "      <td>...</td>\n",
              "    </tr>\n",
              "    <tr>\n",
              "      <th>9871</th>\n",
              "      <td>Chevrolet</td>\n",
              "      <td>Lanos</td>\n",
              "      <td>Sedan</td>\n",
              "      <td>White</td>\n",
              "      <td>2010</td>\n",
              "      <td>Natural Gas</td>\n",
              "      <td>30000 to 39999</td>\n",
              "      <td>1400 - 1500 CC</td>\n",
              "      <td>Manual</td>\n",
              "      <td>Cairo</td>\n",
              "      <td>...</td>\n",
              "      <td>0.00</td>\n",
              "      <td>0.00</td>\n",
              "      <td>0.00</td>\n",
              "      <td>0.00</td>\n",
              "      <td>0.00</td>\n",
              "      <td>0.00</td>\n",
              "      <td>0.00</td>\n",
              "      <td>0.00</td>\n",
              "      <td>0.00</td>\n",
              "      <td>0.00</td>\n",
              "    </tr>\n",
              "    <tr>\n",
              "      <th>9872</th>\n",
              "      <td>Hyundai</td>\n",
              "      <td>Avante</td>\n",
              "      <td>Sedan</td>\n",
              "      <td>Silver</td>\n",
              "      <td>2003</td>\n",
              "      <td>Benzine</td>\n",
              "      <td>100000 to 119999</td>\n",
              "      <td>1600 CC</td>\n",
              "      <td>Automatic</td>\n",
              "      <td>Suez</td>\n",
              "      <td>...</td>\n",
              "      <td>0.00</td>\n",
              "      <td>0.00</td>\n",
              "      <td>0.00</td>\n",
              "      <td>0.00</td>\n",
              "      <td>0.00</td>\n",
              "      <td>0.00</td>\n",
              "      <td>0.00</td>\n",
              "      <td>0.00</td>\n",
              "      <td>0.00</td>\n",
              "      <td>1.00</td>\n",
              "    </tr>\n",
              "    <tr>\n",
              "      <th>9873</th>\n",
              "      <td>Chevrolet</td>\n",
              "      <td>Aveo</td>\n",
              "      <td>Sedan</td>\n",
              "      <td>Black</td>\n",
              "      <td>2017</td>\n",
              "      <td>Benzine</td>\n",
              "      <td>50000 to 59999</td>\n",
              "      <td>1400 - 1500 CC</td>\n",
              "      <td>Automatic</td>\n",
              "      <td>Monufia</td>\n",
              "      <td>...</td>\n",
              "      <td>1.00</td>\n",
              "      <td>0.00</td>\n",
              "      <td>0.00</td>\n",
              "      <td>0.00</td>\n",
              "      <td>0.00</td>\n",
              "      <td>0.00</td>\n",
              "      <td>0.00</td>\n",
              "      <td>0.00</td>\n",
              "      <td>0.00</td>\n",
              "      <td>0.00</td>\n",
              "    </tr>\n",
              "    <tr>\n",
              "      <th>9874</th>\n",
              "      <td>Chevrolet</td>\n",
              "      <td>Lanos</td>\n",
              "      <td>Sedan</td>\n",
              "      <td>Red</td>\n",
              "      <td>2016</td>\n",
              "      <td>Benzine</td>\n",
              "      <td>70000 to 79999</td>\n",
              "      <td>1400 - 1500 CC</td>\n",
              "      <td>Manual</td>\n",
              "      <td>Alexandria</td>\n",
              "      <td>...</td>\n",
              "      <td>0.00</td>\n",
              "      <td>0.00</td>\n",
              "      <td>0.00</td>\n",
              "      <td>0.00</td>\n",
              "      <td>0.00</td>\n",
              "      <td>0.00</td>\n",
              "      <td>0.00</td>\n",
              "      <td>0.00</td>\n",
              "      <td>0.00</td>\n",
              "      <td>0.00</td>\n",
              "    </tr>\n",
              "    <tr>\n",
              "      <th>9875</th>\n",
              "      <td>Fiat</td>\n",
              "      <td>131</td>\n",
              "      <td>Sedan</td>\n",
              "      <td>Orange</td>\n",
              "      <td>1978</td>\n",
              "      <td>Benzine</td>\n",
              "      <td>180000 to 199999</td>\n",
              "      <td>1600 CC</td>\n",
              "      <td>Manual</td>\n",
              "      <td>Beni Suef</td>\n",
              "      <td>...</td>\n",
              "      <td>0.00</td>\n",
              "      <td>0.00</td>\n",
              "      <td>0.00</td>\n",
              "      <td>0.00</td>\n",
              "      <td>0.00</td>\n",
              "      <td>0.00</td>\n",
              "      <td>0.00</td>\n",
              "      <td>0.00</td>\n",
              "      <td>0.00</td>\n",
              "      <td>0.00</td>\n",
              "    </tr>\n",
              "  </tbody>\n",
              "</table>\n",
              "<p>9876 rows × 98 columns</p>\n",
              "</div>"
            ],
            "text/plain": [
              "          Brand   Model       Body        Color  Year         Fuel  \\\n",
              "0     Chevrolet    Aveo      Sedan         Gray  2018      Benzine   \n",
              "1       Hyundai  Accent      Sedan       Silver  2008      Benzine   \n",
              "2       Hyundai  Matrix  Hatchback  Other Color  2001      Benzine   \n",
              "3          Fiat   Punto  Hatchback        White  2006      Benzine   \n",
              "4     Chevrolet   Cruze      Sedan         Gray  2016      Benzine   \n",
              "...         ...     ...        ...          ...   ...          ...   \n",
              "9871  Chevrolet   Lanos      Sedan        White  2010  Natural Gas   \n",
              "9872    Hyundai  Avante      Sedan       Silver  2003      Benzine   \n",
              "9873  Chevrolet    Aveo      Sedan        Black  2017      Benzine   \n",
              "9874  Chevrolet   Lanos      Sedan          Red  2016      Benzine   \n",
              "9875       Fiat     131      Sedan       Orange  1978      Benzine   \n",
              "\n",
              "            Kilometers          Engine Transmission         Gov  ...  \\\n",
              "0     100000 to 119999  1400 - 1500 CC    Automatic  Alexandria  ...   \n",
              "1     180000 to 199999  1000 - 1300 CC       Manual        Qena  ...   \n",
              "2     180000 to 199999         1600 CC    Automatic  Alexandria  ...   \n",
              "3     140000 to 159999  1000 - 1300 CC       Manual       Cairo  ...   \n",
              "4     140000 to 159999         1600 CC    Automatic       Cairo  ...   \n",
              "...                ...             ...          ...         ...  ...   \n",
              "9871    30000 to 39999  1400 - 1500 CC       Manual       Cairo  ...   \n",
              "9872  100000 to 119999         1600 CC    Automatic        Suez  ...   \n",
              "9873    50000 to 59999  1400 - 1500 CC    Automatic     Monufia  ...   \n",
              "9874    70000 to 79999  1400 - 1500 CC       Manual  Alexandria  ...   \n",
              "9875  180000 to 199999         1600 CC       Manual   Beni Suef  ...   \n",
              "\n",
              "      Gov_Monufia  Gov_New Valley  Gov_Port Said  Gov_Qalyubia  Gov_Qena  \\\n",
              "0            0.00            0.00           0.00          0.00      0.00   \n",
              "1            0.00            0.00           0.00          0.00      1.00   \n",
              "2            0.00            0.00           0.00          0.00      0.00   \n",
              "3            0.00            0.00           0.00          0.00      0.00   \n",
              "4            0.00            0.00           0.00          0.00      0.00   \n",
              "...           ...             ...            ...           ...       ...   \n",
              "9871         0.00            0.00           0.00          0.00      0.00   \n",
              "9872         0.00            0.00           0.00          0.00      0.00   \n",
              "9873         1.00            0.00           0.00          0.00      0.00   \n",
              "9874         0.00            0.00           0.00          0.00      0.00   \n",
              "9875         0.00            0.00           0.00          0.00      0.00   \n",
              "\n",
              "      Gov_Red Sea  Gov_Sharqia  Gov_Sohag  Gov_South Sinai  Gov_Suez  \n",
              "0            0.00         0.00       0.00             0.00      0.00  \n",
              "1            0.00         0.00       0.00             0.00      0.00  \n",
              "2            0.00         0.00       0.00             0.00      0.00  \n",
              "3            0.00         0.00       0.00             0.00      0.00  \n",
              "4            0.00         0.00       0.00             0.00      0.00  \n",
              "...           ...          ...        ...              ...       ...  \n",
              "9871         0.00         0.00       0.00             0.00      0.00  \n",
              "9872         0.00         0.00       0.00             0.00      1.00  \n",
              "9873         0.00         0.00       0.00             0.00      0.00  \n",
              "9874         0.00         0.00       0.00             0.00      0.00  \n",
              "9875         0.00         0.00       0.00             0.00      0.00  \n",
              "\n",
              "[9876 rows x 98 columns]"
            ]
          },
          "execution_count": 33,
          "metadata": {},
          "output_type": "execute_result"
        }
      ],
      "source": [
        "# Now use the function `pd.concat` to concatenate `train_df` and`train_cat_one_hot_df`. Pay special attention to the axis argument of pd.`concat` \n",
        "train_df = pd.concat([train_df, train_cat_one_hot_df], axis=1)\n",
        "train_df"
      ]
    },
    {
      "cell_type": "markdown",
      "metadata": {
        "id": "LjY3Za55gkU7"
      },
      "source": [
        "<h1><b>Q3.4: Now drop cat_columns from the train_df since they are already one hot encoded </b></h1>"
      ]
    },
    {
      "cell_type": "code",
      "execution_count": 34,
      "metadata": {
        "id": "bxJKgbOkgNHr",
        "vscode": {
          "languageId": "python"
        }
      },
      "outputs": [],
      "source": [
        "# drop cat columns\n",
        "train_df = train_df.drop(cat_columns, axis=1)"
      ]
    },
    {
      "cell_type": "markdown",
      "metadata": {
        "id": "L2rkjizwhi_B"
      },
      "source": [
        "<h1><b>Q4: Use MinMaxScaler to transform num_columns to be in the range 0-1 </b></h1>"
      ]
    },
    {
      "cell_type": "code",
      "execution_count": 35,
      "metadata": {
        "id": "li2k17BUhiV2",
        "vscode": {
          "languageId": "python"
        }
      },
      "outputs": [],
      "source": [
        "from sklearn.preprocessing import MinMaxScaler\n",
        "\n",
        "scaler = MinMaxScaler()\n",
        "#TODO: fit the scaler on train[num_columns] first\n",
        "\n",
        "#TODO: Then set train[num_columns] to be the transformed output\n",
        "train_df[num_columns] =     scaler.fit_transform(train_df[num_columns])"
      ]
    },
    {
      "cell_type": "markdown",
      "metadata": {
        "id": "lVNk37n4ePXE"
      },
      "source": [
        "<h1><b>Q5: Put all of that into one preprocessing function! </b></h1>"
      ]
    },
    {
      "cell_type": "markdown",
      "metadata": {
        "id": "mVZmRVNdZ5SR"
      },
      "source": [
        "The string following the function declaration is called a docstring. \n",
        "\n",
        "It's a clean way to include documentation inside the code\n",
        "Data science usually doesn't have a lot of clean code but\n",
        "it's the right way to do things.\n",
        "\n",
        "You don't *need* to write docstrings for your functions in\n",
        "any of our tasks -this isn't the software engineering committee!-\n",
        "but it's just something to keep in mind for the future"
      ]
    },
    {
      "cell_type": "code",
      "execution_count": 36,
      "metadata": {
        "id": "HzzRI1ZrWrYC",
        "vscode": {
          "languageId": "python"
        }
      },
      "outputs": [
        {
          "ename": "SyntaxError",
          "evalue": "invalid syntax (80563655.py, line 28)",
          "output_type": "error",
          "traceback": [
            "\u001b[0;36m  Cell \u001b[0;32mIn[36], line 28\u001b[0;36m\u001b[0m\n\u001b[0;31m    cat_columns = #TODO: Use the same answer as Q3.2\u001b[0m\n\u001b[0m                  ^\u001b[0m\n\u001b[0;31mSyntaxError\u001b[0m\u001b[0;31m:\u001b[0m invalid syntax\n"
          ]
        }
      ],
      "source": [
        "from sklearn.preprocessing import OneHotEncoder\n",
        "\n",
        "from sklearn.preprocessing import MinMaxScaler\n",
        "\n",
        "def preprocess(train_df, test_df=None):\n",
        "    \"\"\"Performs preprocessing on a Pandas DataFrame. \n",
        "    Optionally applies the same preprocessing steps\n",
        "    to transform a test dataframe if provided.\n",
        "\n",
        "    \n",
        "    Parameters\n",
        "    ----------\n",
        "    train_df: Pandas DataFrame\n",
        "        The dataframe to do preprocessing on. \n",
        "    test_df:  Pandas DataFrame\n",
        "        Optional. The test dataframe in case it exists.\n",
        "    \n",
        "    Returns\n",
        "    -------\n",
        "\n",
        "    train_df Pandas DataFrame\n",
        "        The preprocessed training dataframe. \n",
        "    test_df [Pandas DataFrame or None]\n",
        "        The preprocessed test dataframe. \n",
        "        If no dataframe is provided then it's None.\n",
        "    \"\"\"\n",
        "\n",
        "    cat_columns = ['Brand', 'Model', 'Body', 'Color', 'Fuel', 'Kilometers', 'Engine','Transmission', 'Gov']\n",
        "#We'll use num_columns as provided here since it's not worth it to select_dtypes for it\n",
        "    num_columns = ['Year'] \n",
        "\n",
        "\n",
        "    #TODO: Now use select_dtypes here to get the same list as the one above\n",
        "    cat_columns = train_df.select_dtypes(include=['object']).columns\n",
        "    \n",
        "\n",
        "    enc = OneHotEncoder(handle_unknown='ignore')\n",
        "\n",
        "    enc.fit(train_df[cat_columns])\n",
        "\n",
        "    train_cat_one_hot = enc.transform(train_df[cat_columns])\n",
        "\n",
        "    train_cat_one_hot_df = pd.DataFrame(train_cat_one_hot.toarray(), \n",
        "                                        columns=enc.get_feature_names_out(),\n",
        "                                        index=train_df.index)\n",
        "\n",
        "   #TODO: Same as in Q3.3\n",
        "    train_df =   pd.concat([train_df, train_cat_one_hot_df], axis=1)\n",
        "\n",
        "    train_df = train_df.drop(cat_columns, axis=1)\n",
        "\n",
        "    scaler = MinMaxScaler()\n",
        "    #TODO: complete with the answer in Q4\n",
        "    scaler= scaler.fit_transform(train_df[num_columns])\n",
        "    \n",
        "\n",
        "\n",
        "    #This is to ensure the same preprocessing steps we did to train_df\n",
        "    #are applied to test_df\n",
        "    #It's the exact same code as above but with test_df instead of train_df\n",
        "    if test_df is not None:\n",
        "\n",
        "        test_cat_one_hot = enc.transform(test_df[cat_columns])\n",
        "\n",
        "        test_cat_one_hot_df = pd.DataFrame(test_cat_one_hot.toarray(), \n",
        "                                            columns=enc.get_feature_names_out(),\n",
        "                                            index=test_df.index)\n",
        "\n",
        "        test_df = #TODO: Same as Q3.3 and the above but test instead of train\n",
        "        test_df = #TODO: Same as Q3.4 and the above but test instead of train\n",
        "\n",
        "\n",
        "        \n",
        "        test_df[num_columns] = #TODO: Complete with scaler.transform\n",
        "        \n",
        "        #Note that we don't fit scaler or encoder to test_df. \n",
        "        #We only transform them\n",
        "\n",
        "    return train_df, test_df"
      ]
    },
    {
      "cell_type": "markdown",
      "metadata": {
        "id": "20P_lAgUx-Ot"
      },
      "source": [
        "After calling the function, the two dataframes should now be preprocessed."
      ]
    },
    {
      "cell_type": "markdown",
      "metadata": {
        "id": "S_e3CcBQ5vwy"
      },
      "source": [
        "Note that we need to load the data again because we edited it in the previous cells."
      ]
    },
    {
      "cell_type": "code",
      "execution_count": null,
      "metadata": {
        "id": "cfmz4Ah2cdTk",
        "vscode": {
          "languageId": "python"
        }
      },
      "outputs": [],
      "source": [
        "train_df = pd.read_csv(\"Cars_train.csv\")\n",
        "train_df = train_df.drop('Price', axis=1)\n",
        "test_df = pd.read_csv(\"Cars_test.csv\")\n",
        "test_df = test_df.drop('id', axis=1)\n",
        "\n",
        "train_df, test_df = preprocess(train_df, test_df)\n"
      ]
    },
    {
      "cell_type": "markdown",
      "metadata": {
        "id": "PVfPRUKHiuZ7"
      },
      "source": [
        "# Training and Cross-Validation"
      ]
    },
    {
      "cell_type": "markdown",
      "metadata": {
        "id": "T_jOyhP8yE41"
      },
      "source": [
        "<h1><b>Q6: Create a variable X, that consists of train_df without the target variable, and another variable y consisting of just the target variable </b></h1>"
      ]
    },
    {
      "cell_type": "code",
      "execution_count": null,
      "metadata": {
        "id": "-uE19ALBiHp1",
        "vscode": {
          "languageId": "python"
        }
      },
      "outputs": [],
      "source": [
        "X = #TODO: fill in X\n",
        "y = #TODO: fill in y"
      ]
    },
    {
      "cell_type": "markdown",
      "metadata": {
        "id": "2K3ZFQXEjSqO"
      },
      "source": [
        "The next cell demonstrates K-Fold Cross Validation \n",
        "*   We'll try doing hyperparameter tuning manually this time\n",
        "*   Try different models and try different combinations of hyperparameters\n",
        "*   You'll need to solve all of the next cell for the code to work\n"
      ]
    },
    {
      "cell_type": "markdown",
      "metadata": {
        "id": "o5tRE85zyXI0"
      },
      "source": [
        "<h1><b>Q7: Fill in the missing pieces of code as indicated by the comments. Then, Try running the DummyClassifier and notice its performance. \n",
        "Now try different models and different hyperparameter combinations manually and see how far you can fly! \n",
        "\n",
        "(Don't worry it's not too far. Not because of you but because of the dataset ¯\\\\_(ツ)_/¯) </b></h1>"
      ]
    },
    {
      "cell_type": "code",
      "execution_count": null,
      "metadata": {
        "id": "1UyKiImUf7cd",
        "vscode": {
          "languageId": "python"
        }
      },
      "outputs": [],
      "source": [
        "import numpy as np\n",
        "from sklearn.model_selection import StratifiedKFold\n",
        "from sklearn.linear_model import LogisticRegression\n",
        "from sklearn.ensemble import RandomForestClassifier\n",
        "from sklearn.svm import SVC\n",
        "from sklearn.metrics import accuracy_score, precision_score, recall_score, f1_score\n",
        "from sklearn.dummy import DummyClassifier\n",
        "\n",
        "\n",
        "K = 5\n",
        "\n",
        "skf = StratifiedKFold(n_splits=K, random_state=0, shuffle=True)\n",
        "\n",
        "#We need to turn X and y into numpy array before inputting them to the model\n",
        "X = X.to_numpy()\n",
        "y = y.to_numpy()\n",
        "\n",
        "fold_number = 1\n",
        "\n",
        "avg_accuracy = 0\n",
        "avg_precision = 0\n",
        "avg_recall = 0\n",
        "avg_f1 = 0\n",
        "\n",
        "for train_index, test_index in skf.split(X, y):\n",
        "    X_train, X_test = X[train_index], X[test_index]\n",
        "    y_train, y_test = y[train_index], y[test_index]\n",
        "    \n",
        "    #TODO: Try changing the type of the model and/or its hyperparameters manually!\n",
        "    clf = DummyClassifier(random_state=0)\n",
        "\n",
        "    #TODO: Fit the classifier on X_train and y_train\n",
        "    \n",
        "\n",
        "    #TODO: Save the classifier's predictions on X_test to preds\n",
        "    preds = \n",
        "\n",
        "\n",
        "    accuracy = accuracy_score(y_test, preds)\n",
        "\n",
        "    #The 'macro' helps generalize precision, recall, and f1 \n",
        "    #from binary to multiclass classification\n",
        "    #See: https://stephenallwright.com/micro-vs-macro-f1-score/\n",
        "    #For more information\n",
        "    precision = precision_score(y_test, preds, average='macro')\n",
        "    recall = #TODO: Do the same as precision_score for recall\n",
        "    f1 = #TODO: Do the same as precision_score for f1\n",
        "\n",
        "    #This prints metrics for each fold\n",
        "    print(f\"Accuracy for fold #{fold_number}: {accuracy}\")\n",
        "    print(f\"Precision for fold #{fold_number}: {precision}\")\n",
        "    print(f\"Recall for fold #{fold_number}: {recall}\")\n",
        "    print(f\"F1 Score for fold #{fold_number}: {f1}\\n\")\n",
        "\n",
        "    #This helps when calculating the average of metrics across folds\n",
        "    avg_accuracy += accuracy\n",
        "    avg_precision += precision\n",
        "    avg_recall += recall\n",
        "    avg_f1 += f1\n",
        "\n",
        "    fold_number += 1\n",
        "   \n",
        "\n",
        "print(f\"Average (Out of fold) Accuracy: {avg_accuracy/K}\")\n",
        "print(f\"Average (Out of fold) Precision: {avg_precision/K}\")\n",
        "print(f\"Average (Out of fold) Recall: {avg_recall/K}\")\n",
        "print(f\"Average (Out of fold) F1: {avg_f1/K}\")\n"
      ]
    },
    {
      "cell_type": "markdown",
      "metadata": {
        "id": "VANssk0tzM-3"
      },
      "source": [
        "The next cell displays the confusion matrix for the model using the very last values preds and y_test that were assigned in the loop.\n",
        "\n",
        "What do you notice about the model? What kind of classes does it confuse the most? Is the model overfitting? Try to think about these questions and let that guide you when choosing a model and doing hyperparameter tuning."
      ]
    },
    {
      "cell_type": "code",
      "execution_count": null,
      "metadata": {
        "id": "T0jWLWGt_Vbv",
        "vscode": {
          "languageId": "python"
        }
      },
      "outputs": [
        {
          "ename": "NameError",
          "evalue": "name 'y_test' is not defined",
          "output_type": "error",
          "traceback": [
            "\u001b[0;31m---------------------------------------------------------------------------\u001b[0m",
            "\u001b[0;31mNameError\u001b[0m                                 Traceback (most recent call last)",
            "Cell \u001b[0;32mIn[21], line 8\u001b[0m\n\u001b[1;32m      3\u001b[0m \u001b[39mimport\u001b[39;00m \u001b[39mmatplotlib\u001b[39;00m\u001b[39m.\u001b[39;00m\u001b[39mpyplot\u001b[39;00m \u001b[39mas\u001b[39;00m \u001b[39mplt\u001b[39;00m\n\u001b[1;32m      5\u001b[0m \u001b[39m#The normalize=\"all\" displays ratios instead of just frequencies\u001b[39;00m\n\u001b[1;32m      6\u001b[0m \u001b[39m#Multiplied by 100 for percentages\u001b[39;00m\n\u001b[1;32m      7\u001b[0m \u001b[39m#If you want to see the frequencies just remove normalize='all' and the * 100\u001b[39;00m\n\u001b[0;32m----> 8\u001b[0m cm \u001b[39m=\u001b[39m confusion_matrix(y_test, preds, normalize\u001b[39m=\u001b[39m\u001b[39m\"\u001b[39m\u001b[39mall\u001b[39m\u001b[39m\"\u001b[39m) \u001b[39m*\u001b[39m \u001b[39m100\u001b[39m\n\u001b[1;32m      9\u001b[0m cmp \u001b[39m=\u001b[39m ConfusionMatrixDisplay(cm)\n\u001b[1;32m     10\u001b[0m fig, ax \u001b[39m=\u001b[39m plt\u001b[39m.\u001b[39msubplots(figsize\u001b[39m=\u001b[39m(\u001b[39m10\u001b[39m,\u001b[39m10\u001b[39m))\n",
            "\u001b[0;31mNameError\u001b[0m: name 'y_test' is not defined"
          ]
        }
      ],
      "source": [
        "from sklearn.metrics import ConfusionMatrixDisplay\n",
        "from sklearn.metrics import confusion_matrix\n",
        "import matplotlib.pyplot as plt\n",
        "\n",
        "#The normalize=\"all\" displays ratios instead of just frequencies\n",
        "#Multiplied by 100 for percentages\n",
        "#If you want to see the frequencies just remove normalize='all' and the * 100\n",
        "cm = confusion_matrix(y_test, preds, normalize=\"all\") * 100\n",
        "cmp = ConfusionMatrixDisplay(cm)\n",
        "fig, ax = plt.subplots(figsize=(10,10))\n",
        "cmp.plot(ax=ax)"
      ]
    },
    {
      "cell_type": "markdown",
      "metadata": {
        "id": "yNYkq2gZk4JP"
      },
      "source": [
        "Now that you've used K-Fold Cross validation to choose a model, train the model you chose on all of the available data.\n",
        "\n",
        "<b>Remember that we only use K-Fold to get an estimate of each model's performance to be able to select a model, but when we've selected a model we want to train it on all available data, not just 4/5 on it in case of 5-Fold cross validation</b>"
      ]
    },
    {
      "cell_type": "markdown",
      "metadata": {
        "id": "0HvmA1r_-znb"
      },
      "source": [
        "<h1><b>Q8: For the final piece of the puzzle, fill in the next cell with the best model and hyperparameters you found using cross validation and train it on all the labeled data to be able to get predictions on the test set</b></h1>"
      ]
    },
    {
      "cell_type": "code",
      "execution_count": null,
      "metadata": {
        "id": "BfnI3tKj_8yl",
        "vscode": {
          "languageId": "python"
        }
      },
      "outputs": [],
      "source": [
        "clf = #TODO: Use the model and hyperparameters you found in Q7\n",
        "\n",
        "#TODO: Fit it using X and y (All of the training data)\n",
        "\n",
        "\n",
        "#Turn test_df into a numpy array and get the predictions\n",
        "test_df = test_df.to_numpy()\n",
        "preds = clf.predict(test_df)"
      ]
    },
    {
      "cell_type": "markdown",
      "metadata": {
        "id": "LqYDs7eI-U7p"
      },
      "source": [
        "<h2><b>Don't forget to submit the form and upload your submission to Kaggle:</h2></b>"
      ]
    },
    {
      "cell_type": "markdown",
      "metadata": {
        "id": "JdTtNYRX-U72"
      },
      "source": [
        "Form link:\n",
        "\n",
        "https://forms.gle/8YYY5WAFhMQfrBJM9\n",
        "\n",
        "Kaggle link:\n",
        "\n",
        "https://www.kaggle.com/t/f21a20616b5f4e14b1dd03880225e9c7"
      ]
    },
    {
      "cell_type": "code",
      "execution_count": null,
      "metadata": {
        "id": "J1V5ydAL-U72",
        "vscode": {
          "languageId": "python"
        }
      },
      "outputs": [],
      "source": [
        "submission = pd.read_csv(\"sample_submission.csv\")\n",
        "\n",
        "submission.price_category = preds\n",
        "\n",
        "submission.to_csv(\"cars_submission.csv\", index=False)"
      ]
    },
    {
      "cell_type": "markdown",
      "metadata": {
        "id": "TJOdzV1d-2Bw"
      },
      "source": [
        "<h1><b>Q9 (Optional) (Bonus): In case you're feeling adventrous, try running both GridSearchCV and RandomSearchCV for cross validation. (You can provide them the full X and y sets and they will handle the train/valid split).\n",
        " Did they get a better score than your hand-picked parameters? If so, by how much?</b></h1>"
      ]
    },
    {
      "cell_type": "markdown",
      "metadata": {
        "id": "jK2EQAYq6uZu"
      },
      "source": [
        "<h1><b>Aaaand we're done! Congratulations on making it this far! 🎉🎉🎉</b></h1>"
      ]
    }
  ],
  "metadata": {
    "colab": {
      "include_colab_link": true,
      "provenance": []
    },
    "kernelspec": {
      "display_name": "Python 3 (ipykernel)",
      "language": "python",
      "name": "python3"
    },
    "nav_menu": {},
    "toc": {
      "navigate_menu": true,
      "number_sections": true,
      "sideBar": true,
      "threshold": 6,
      "toc_cell": false,
      "toc_section_display": "block",
      "toc_window_display": false
    }
  },
  "nbformat": 4,
  "nbformat_minor": 0
}
